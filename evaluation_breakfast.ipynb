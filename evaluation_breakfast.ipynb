{
 "cells": [
  {
   "cell_type": "code",
   "execution_count": 1,
   "id": "bdecb3a1-a5ae-4817-8099-21a73e546a95",
   "metadata": {},
   "outputs": [
    {
     "name": "stderr",
     "output_type": "stream",
     "text": [
      "/home/guilherme/miniconda3/envs/as_env/lib/python3.7/site-packages/sklearn/utils/deprecation.py:143: FutureWarning: The sklearn.decomposition.pca module is  deprecated in version 0.22 and will be removed in version 0.24. The corresponding classes / functions should instead be imported from sklearn.decomposition. Anything that cannot be imported from sklearn.decomposition is now part of the private API.\n",
      "  warnings.warn(message, FutureWarning)\n",
      "/home/guilherme/miniconda3/envs/as_env/lib/python3.7/site-packages/gluoncv/__init__.py:40: UserWarning: Both `mxnet==1.7.0` and `torch==1.13.1+cu117` are installed. You might encounter increased GPU memory footprint if both framework are used at the same time.\n",
      "  warnings.warn(f'Both `mxnet=={mx.__version__}` and `torch=={torch.__version__}` are installed. '\n",
      "/home/guilherme/unsup_action_seg_st_pe_embed/finch.py:14: UserWarning: pyflann not installed: No module named 'pyflann'\n",
      "  warnings.warn('pyflann not installed: {}'.format(e))\n"
     ]
    }
   ],
   "source": [
    "%config Completer.use_jedi = False\n",
    "\n",
    "import pandas as pd\n",
    "import os\n",
    "import subprocess\n",
    "from video import Video\n",
    "import random\n",
    "from extractors import ExtractorFactory\n",
    "from clusters import ClusterFactory\n",
    "\n",
    "from mxnet import nd, gpu\n",
    "import io\n",
    "import cv2\n",
    "import finch\n",
    "from pathlib import Path\n",
    "\n",
    "from sklearn.metrics.cluster import contingency_matrix\n",
    "from sklearn.metrics import average_precision_score\n",
    "from sklearn.metrics import confusion_matrix\n",
    "from sklearn.preprocessing import LabelEncoder\n",
    "from sklearn.decomposition.pca import PCA\n",
    "\n",
    "import numpy as np\n",
    "import math\n",
    "from pprint import pprint\n",
    "from accuracy import Accuracy\n",
    "from npy import Npy"
   ]
  },
  {
   "cell_type": "markdown",
   "id": "7da5b9ca-a5e4-4352-842a-a719845a86d0",
   "metadata": {},
   "source": [
    "### Breakfast dataset class"
   ]
  },
  {
   "cell_type": "code",
   "execution_count": 2,
   "id": "600ff62a-a547-458f-957b-936f9c17c3a8",
   "metadata": {
    "tags": []
   },
   "outputs": [],
   "source": [
    "class Breakfast:\n",
    "    \n",
    "    def __init__(self):\n",
    "        self.vd_root_folder = './BreakfastII_15fps_qvga_sync'\n",
    "        self.gt_paths = self.__get_gt_paths()\n",
    "#         self.i3d_feat_paths = self.__get_i3d_features_path()\n",
    "        self.set_labels_mapping()\n",
    "    \n",
    "    def set_labels_mapping(self):\n",
    "        action_set = []\n",
    "        action_per_activity = {}\n",
    "        for activity, gtpaths in self.gt_paths.items():\n",
    "            action_per_activity[activity] = []\n",
    "            for gtpath in gtpaths:\n",
    "                gt_info = self.get_gt_info(gtpath)\n",
    "                cur_actions = [seg['action'] for seg in gt_info]\n",
    "                action_set.extend(cur_actions)\n",
    "                action_per_activity[activity].extend(cur_actions)\n",
    "            action_per_activity[activity] = set(action_per_activity[activity])\n",
    "        action_set = list(set(action_set))\n",
    "        action_set.sort()\n",
    "        self.action_label_map = {action: i for i, action in enumerate(action_set)}\n",
    "        self.action_label_map_per_activity = {activity: {action: self.action_label_map[action] for action in actions} for activity, actions in action_per_activity.items()}\n",
    "    \n",
    "    def __get_gt_paths(self):\n",
    "        gt_paths = {}\n",
    "        for path, subdirs, files in os.walk('segmentation_coarse'):\n",
    "            split_path = path.split(\"/\")\n",
    "            if len(split_path) == 2:\n",
    "                gt_paths[split_path[-1]] = []\n",
    "                for name in files:\n",
    "                    if name.split(\".\")[-1] == 'txt':\n",
    "                        gt_paths[split_path[-1]].append(os.path.join(path, name))\n",
    "        assert sum([len(paths) for _, paths in gt_paths.items()]) == 1712\n",
    "        return gt_paths\n",
    "    \n",
    "    def __get_i3d_features_path(self):\n",
    "        feat_paths = []\n",
    "        for path, subdirs, files in os.walk('bf_kinetics_feat'):\n",
    "            for name in files:\n",
    "                feat_paths.append(os.path.join(path, name))\n",
    "\n",
    "        breakfast = {}\n",
    "        for path in feat_paths:\n",
    "            b_type = path.split(\"_\")[-1][:-4]\n",
    "            breakfast[b_type] = breakfast.get(b_type, []) + [path]\n",
    "\n",
    "        assert sum([len(paths) for _, paths in breakfast.items()]) == 1712\n",
    "        \n",
    "        return breakfast\n",
    "    \n",
    "    def gtpath_to_vdpath(self, gt_path):\n",
    "        splitted_path = gt_path.split(\"/\")[-1].split(\"_\")\n",
    "        pfolder = splitted_path[0]\n",
    "        splitted_path[-1] = splitted_path[-1].split(\".\")[0]\n",
    "\n",
    "        if 'stereo' in gt_path:\n",
    "            recfolder = splitted_path[1][:-2]\n",
    "            filename = \"_\".join([splitted_path[0], splitted_path[-1], 'ch1'])\n",
    "            vd_path = \"/\".join([self.vd_root_folder, pfolder, recfolder, filename + '.avi'])\n",
    "            if Path(vd_path).exists():\n",
    "                return vd_path\n",
    "            else:\n",
    "                filename = \"_\".join([splitted_path[0], splitted_path[-1], 'ch0'])\n",
    "                vd_path = \"/\".join([self.vd_root_folder, pfolder, recfolder, filename + '.avi'])\n",
    "                return vd_path\n",
    "        else:\n",
    "            recfolder = splitted_path[1]\n",
    "            filename = \"_\".join([splitted_path[0], splitted_path[-1]])\n",
    "\n",
    "        return \"/\".join([self.vd_root_folder, pfolder, recfolder, filename + '.avi'])\n",
    "\n",
    "    def get_gt_info(self, target_path):\n",
    "        \"\"\" Reads the ground truth segments and convert them to a 32 fps video \"\"\"\n",
    "\n",
    "        target_gt_path = target_path\n",
    "\n",
    "        if os.path.exists(target_gt_path) is False:\n",
    "            return False\n",
    "\n",
    "        with open(target_gt_path, 'r') as f:\n",
    "            l1 = []\n",
    "            for ele in f:\n",
    "                line = ele.split('\\n')\n",
    "                annotation = line[0].rstrip()\n",
    "                times, action = annotation.split(\" \")\n",
    "                start, end = times.split(\"-\")\n",
    "                if start == end:\n",
    "                    continue\n",
    "\n",
    "                if start == '1':\n",
    "                    start = float(start)\n",
    "                else:\n",
    "                    if len(l1) == 0:\n",
    "                        start = 1.\n",
    "                    else:\n",
    "                        start = float(l1[-1]['end']) + 1.\n",
    "\n",
    "                l1.append(dict(start=start, end=float(end), action=action))\n",
    "        return l1\n",
    "    \n",
    "    def gt_to_array(self, gt, video_len):\n",
    "        \"\"\" Converts the ground truth dict to an array \"\"\"\n",
    "        frame_wise_gt = []\n",
    "        n_segs = len(gt)\n",
    "\n",
    "        for ith_class, gt_seg in enumerate(gt):\n",
    "            start, end = gt_seg['start'], gt_seg['end']\n",
    "            frame_wise_gt = frame_wise_gt + [self.action_label_map[gt_seg['action']]] * int(end - start + 1)\n",
    "\n",
    "        return np.array(frame_wise_gt[:video_len])\n",
    "\n",
    "\n",
    "bf = Breakfast()"
   ]
  },
  {
   "cell_type": "markdown",
   "id": "48154dd9-f1e3-48a6-b2c2-67453fc84fb6",
   "metadata": {},
   "source": [
    "### Segmentation evaluation class"
   ]
  },
  {
   "cell_type": "code",
   "execution_count": 3,
   "id": "494ce37f-42d8-4ddc-b44d-20df07ac7eff",
   "metadata": {},
   "outputs": [],
   "source": [
    "class EvalSegmentation:\n",
    "    \n",
    "    def __init__(self):\n",
    "        self.mofs = {}\n",
    "        self.ious = {}\n",
    "    \n",
    "    def setup_key(self, key):\n",
    "        self.mofs[key] = []\n",
    "        self.ious[key] = []\n",
    "        \n",
    "    def __call__(self, predicted, ground_truth, key):\n",
    "        acc = Accuracy()\n",
    "        acc.predicted_labels = predicted\n",
    "        acc.gt_labels = ground_truth\n",
    "        acc.mof()\n",
    "        acc.mof_classes()\n",
    "        acc.iou_classes()\n",
    "        stats = acc.stat()['iou']\n",
    "        iou = stats[0] / stats[1]\n",
    "        self.ious[key].append(iou)\n",
    "        self.mofs[key].append(acc.mof_val())\n",
    "    \n",
    "    def get_gt2preds_mapping(self, gt, pred):\n",
    "        acc = Accuracy()\n",
    "        acc.predicted_labels = pred\n",
    "        acc.gt_labels = gt\n",
    "        return acc.get_gt2labels_mapping()\n",
    "            \n",
    "    def report_results(self):\n",
    "        def calculate(metrics_per_key, metric_name):\n",
    "            print(metric_name)\n",
    "            acc_metric = []  # accumulated metric\n",
    "            for key, metrics_per_sample in metrics_per_key.items():\n",
    "                print(key, np.mean(metrics_per_sample))\n",
    "                acc_metric.append(np.mean(metrics_per_sample))\n",
    "            print(f\"Final {metric_name}: {np.mean(acc_metric)}\")\n",
    "        calculate(self.ious, 'IoU')\n",
    "        calculate(self.mofs, 'MoF')\n",
    "\n",
    "_ = EvalSegmentation()"
   ]
  },
  {
   "cell_type": "markdown",
   "id": "540e034a-39a2-4c6c-a3ab-5b0b05975184",
   "metadata": {},
   "source": [
    "### Breakfast segmentation class"
   ]
  },
  {
   "cell_type": "code",
   "execution_count": 14,
   "id": "182adc72-9075-497b-a70d-bc2090d997dc",
   "metadata": {},
   "outputs": [],
   "source": [
    "class SegmentBreakfast:\n",
    "    \n",
    "    def __init__(self, cluster_strategy: str, **kwargs):\n",
    "        self.breakfast = Breakfast()\n",
    "        self.cluster_strategy = cluster_strategy\n",
    "        self.segmentator = ClusterFactory.get(cluster_strategy)(**kwargs)\n",
    "        self.cluster_type = cluster_strategy\n",
    "        self.segment_root_folder = './segments'\n",
    "        self.eval = EvalSegmentation()\n",
    "        self.npy = Npy()\n",
    "    \n",
    "    def map_seglabels_to_framelabels(self, labels, video_len, seg_len=32):\n",
    "        \"\"\" Map segments(32 frames pieces of a video) labels to a framewise label \"\"\"\n",
    "        frames_labels = []\n",
    "\n",
    "        for seg_label in labels:\n",
    "            frames_labels = frames_labels + [seg_label] * seg_len\n",
    "        return np.array(frames_labels[:video_len])\n",
    "    \n",
    "    def predpath_root(self, with_pe: bool, feature_extractor: str, frames_window_len: str) -> str:\n",
    "        \"\"\" Creates the root folder of a action segmentation prediction \"\"\"\n",
    "        if with_pe:\n",
    "            predroot_words = [self.segment_root_folder, \"pe\", feature_extractor, frames_window_len , self.cluster_type]\n",
    "        else:\n",
    "            predroot_words = [self.segment_root_folder, feature_extractor, frames_window_len, self.cluster_type]\n",
    "        return \"_\".join(predroot_words)\n",
    "    \n",
    "    def gtpath_to_predpath(self, feat_path: str, with_pe: bool,\n",
    "                           feature_extractor: str, frames_window_len: int) -> str:\n",
    "        \"\"\" Transforms a breakfast ground truth path to a segments prediction path \"\"\"\n",
    "        gt_fname = feat_path.split(\"/\")[-1]\n",
    "        pred_fname = \".\".join(gt_fname.split(\".\")[:-1] + ['npy'])\n",
    "        return \"/\".join([self.predpath_root(with_pe=with_pe,\n",
    "                                            feature_extractor=feature_extractor,\n",
    "                                            frames_window_len=str(frames_window_len)),\n",
    "                         pred_fname])\n",
    "    \n",
    "    def save_segment(self, predpath: str, seg_pred: np.ndarray) -> None:\n",
    "        \"\"\" Save the segmentation prediction of a video in a path \"\"\"\n",
    "        *predpath_root, pred_fname = predpath.split(\"/\")\n",
    "        predpath_root = \"/\".join(predpath_root)\n",
    "        self.npy.write(predpath_root, pred_fname, seg_pred)\n",
    "    \n",
    "    def get_video_from_gtpath(self, gt_path: str, input_len: int = 32, extraction_strategy: str = ExtractorFactory.SLOWFAST.value):\n",
    "        \"\"\" Given the path to the ground truth information of a video this methods returns a Video object \"\"\"\n",
    "        vd_path = self.breakfast.gtpath_to_vdpath(gt_path)            \n",
    "        video = Video(vd_path, \"_\".join([extraction_strategy, str(input_len)]))\n",
    "        if extraction_strategy == ExtractorFactory.I3D.value:\n",
    "            video.features = lambda with_pe: self.get_i3d_features(vd_path, with_pe=with_pe)\n",
    "        return video\n",
    "    \n",
    "    def get_actionpred_from_gtpath(self,\n",
    "                                   gt_path: str,\n",
    "                                   feature_extractor: str,\n",
    "                                   frames_window_len: int,\n",
    "                                   with_pe: bool = True):\n",
    "        \"\"\" Given the path to the ground truth information of a video this methods returns the predicted\n",
    "            for this video\n",
    "        \"\"\"\n",
    "        pred_path = self.gtpath_to_predpath(gt_path, with_pe,\n",
    "                                            feature_extractor,\n",
    "                                            frames_window_len)\n",
    "        return np.load(pred_path)\n",
    "    \n",
    "    def predict_single_video_with_slowfast(self, gt_path: str, pe: bool = True, frames_len: int = 128, red_dim=False):\n",
    "        video = self.get_video_from_gtpath(gt_path, input_len=frames_len)\n",
    "        features = video.features(with_pe=pe, reduce_dim=red_dim)\n",
    "\n",
    "        if self.cluster_strategy == ClusterFactory.OPTICS.value:\n",
    "            segments_pred = self.segmentator.auto(features, fps=video.fps, samples_frame_len=frames_len)\n",
    "        else:\n",
    "            segments_pred = self.segmentator.auto(features)\n",
    "        \n",
    "        predpath = self.gtpath_to_predpath(gt_path,\n",
    "                                           with_pe=pe,\n",
    "                                           feature_extractor=ExtractorFactory.SLOWFAST.value,\n",
    "                                           frames_window_len=frames_len)\n",
    "        self.save_segment(predpath, segments_pred)\n",
    "                \n",
    "        frames_pred = self.map_seglabels_to_framelabels(segments_pred, len(video))\n",
    "        \n",
    "        gt_info = self.breakfast.get_gt_info(gt_path)\n",
    "        gt = self.breakfast.gt_to_array(gt_info, len(video))\n",
    "        \n",
    "        if gt.shape[0] > frames_pred.shape[0]:\n",
    "            gt = gt[:frames_pred.shape[0]]\n",
    "        elif gt.shape[0] < frames_pred.shape[0]:\n",
    "            frames_pred = frames_pred[:gt.shape[0]]\n",
    "                \n",
    "        self.eval.setup_key('anything')\n",
    "        self.eval(frames_pred, gt, 'anything')\n",
    "        return gt, frames_pred\n",
    "        \n",
    "    \n",
    "    def with_slowfast_features(self, pe: bool = True, frames_len: int = 32, red_dim: bool = True) -> None:\n",
    "        \"\"\"\n",
    "        Generates the action segmentation of the Breakfast dataset with features extracted with the Slowfast\n",
    "        model\n",
    "        \"\"\"\n",
    "        for activity, gts in self.breakfast.gt_paths.items():\n",
    "            self.eval.setup_key(activity)\n",
    "            for i, gt_path in enumerate(gts):\n",
    "                video = self.get_video_from_gtpath(gt_path, input_len=frames_len)\n",
    "                features = video.features(with_pe=pe, reduce_dim=red_dim)\n",
    "                \n",
    "                if self.cluster_strategy == ClusterFactory.OPTICS.value:\n",
    "                    segments_pred = self.segmentator.auto(features, fps=video.fps, samples_frame_len=frames_len)\n",
    "                else:\n",
    "                    segments_pred = self.segmentator.auto(features)\n",
    "                \n",
    "                predpath = self.gtpath_to_predpath(gt_path,\n",
    "                                                   with_pe=pe,\n",
    "                                                   feature_extractor=ExtractorFactory.SLOWFAST.value,\n",
    "                                                   frames_window_len=frames_len)\n",
    "                self.save_segment(predpath, segments_pred)\n",
    "                \n",
    "                frames_pred = self.map_seglabels_to_framelabels(segments_pred, len(video), frames_len)\n",
    "                gt_info = self.breakfast.get_gt_info(gt_path)\n",
    "                gt = self.breakfast.gt_to_array(gt_info, len(video))\n",
    "                \n",
    "                if gt.shape[0] > frames_pred.shape[0]:\n",
    "                    gt = gt[:frames_pred.shape[0]]\n",
    "                elif gt.shape[0] < frames_pred.shape[0]:\n",
    "                    frames_pred = frames_pred[:gt.shape[0]]\n",
    "                \n",
    "                self.eval(frames_pred, gt, activity)\n",
    "            print(f\"Finished {activity}\")\n",
    "        self.eval.report_results()\n",
    "    \n",
    "    def with_dino_features(self, gt_path: str, activity:str, pe: bool = True, frames_len: int = 32):\n",
    "        video = self.get_video_from_gtpath(gt_path, input_len=1, extraction_strategy=ExtractorFactory.DINO.value)\n",
    "        features = video.features(with_pe=pe, avg=True, n_rows=frames_len)\n",
    "        segments_pred = self.segmentator.auto(features)\n",
    "        predpath = self.gtpath_to_predpath(\n",
    "            gt_path, with_pe=pe, feature_extractor=ExtractorFactory.DINO.value,\n",
    "            frames_window_len=frames_len\n",
    "        )\n",
    "        frames_pred = self.map_seglabels_to_framelabels(segments_pred, len(video), frames_len)\n",
    "        gt_info = self.breakfast.get_gt_info(gt_path)\n",
    "        gt = self.breakfast.gt_to_array(gt_info, len(video))\n",
    "        print(gt.shape)\n",
    "        print(frames_pred.shape)\n",
    "        if gt.shape[0] > frames_pred.shape[0]:\n",
    "            gt = gt[:frames_pred.shape[0]]\n",
    "        elif gt.shape[0] < frames_pred.shape[0]:\n",
    "            frames_pred = frames_pred[:gt.shape[0]]\n",
    "        self.eval(frames_pred, gt, activity)\n",
    "        \n",
    "        \n",
    "    def get_i3d_features(self, vd_path: str, frames_window_len: int = 10, with_pe: bool = True, red_dim: bool = True) -> np.ndarray:\n",
    "        if frames_window_len == 10:\n",
    "            to_i3d_features = 'i3d_features/i3d'\n",
    "        else:\n",
    "            to_i3d_features = f'i3d_features_{frames_window_len}frames/i3d'\n",
    "\n",
    "        *path, vd_name = vd_path.split(\"/\")\n",
    "        path = '/'.join(path)\n",
    "        vd_name = vd_name.split(\".\")[0]\n",
    "        \n",
    "        flow = vd_name + '_flow.npy'\n",
    "        rgb = vd_name + '_rgb.npy'\n",
    "\n",
    "        path = '/'.join([path, to_i3d_features])        \n",
    "        rgb_path = os.path.join(path, rgb)\n",
    "        flow_path = os.path.join(path, flow)\n",
    "        \n",
    "        def positional_encoding(data: np.ndarray) -> np.ndarray:\n",
    "            def get_sinusoid_encoding_table(length, d_model):\n",
    "\n",
    "                def cal_angle(position, hid_idx):\n",
    "                    return position / np.power(10000, 2 * (hid_idx // 2) / d_model)\n",
    "\n",
    "                def get_posi_angle_vec(position):\n",
    "                    return [cal_angle(position, hid_j) for hid_j in range(d_model)]\n",
    "\n",
    "                sinusoid_table = np.array([get_posi_angle_vec(pos_i) for pos_i in range(length)])\n",
    "\n",
    "                sinusoid_table[:, 0::2] = np.sin(sinusoid_table[:, 0::2])  # dim 2i\n",
    "                sinusoid_table[:, 1::2] = np.cos(sinusoid_table[:, 1::2])  # dim 2i+1\n",
    "\n",
    "                return sinusoid_table\n",
    "\n",
    "            d_model = data.shape[1]\n",
    "            length = data.shape[0]\n",
    "\n",
    "            pe = get_sinusoid_encoding_table(length, d_model)\n",
    "\n",
    "            return data + pe\n",
    "\n",
    "        data = np.concatenate([np.load(flow_path), np.load(rgb_path)], axis=1)\n",
    "        \n",
    "        if red_dim:\n",
    "            reducer = PCA(n_components=.999999999)\n",
    "            data = reducer.fit_transform(data)\n",
    "        \n",
    "        if with_pe:\n",
    "            data = positional_encoding(data)\n",
    "                \n",
    "        return data\n",
    "\n",
    "    def with_i3d_features(self, pe: str = 'SUM', frames_window_len: int=10, red_dim: bool = True):\n",
    "        for activity, gts in self.breakfast.gt_paths.items():\n",
    "            print(activity)\n",
    "            self.eval.setup_key(activity)\n",
    "            for gt_path in gts:\n",
    "                # getting the video path\n",
    "                vd_path = self.breakfast.gtpath_to_vdpath(gt_path)\n",
    "                \n",
    "                # getting the numpy array with the features of current path\n",
    "                features = self.get_i3d_features(vd_path,\n",
    "                                                 frames_window_len=frames_window_len,\n",
    "                                                 with_pe=pe, red_dim=red_dim)\n",
    "                video = Video(vd_path, ExtractorFactory.I3D.value)\n",
    "                \n",
    "                segments_pred = self.segmentator.auto(features)\n",
    "\n",
    "                predpath = self.gtpath_to_predpath(gt_path,\n",
    "                                                   with_pe=pe,\n",
    "                                                   feature_extractor=ExtractorFactory.I3D.value,\n",
    "                                                   frames_window_len=frames_window_len)\n",
    "                self.save_segment(predpath, segments_pred)\n",
    "                \n",
    "                frames_pred = self.map_seglabels_to_framelabels(segments_pred,\n",
    "                                                                len(video),\n",
    "                                                                seg_len=frames_window_len)\n",
    "                gt_info = self.breakfast.get_gt_info(gt_path)\n",
    "                gt = self.breakfast.gt_to_array(gt_info, len(video))\n",
    "\n",
    "                if gt.shape[0] > frames_pred.shape[0]:\n",
    "                    gt = gt[:frames_pred.shape[0]]\n",
    "                elif gt.shape[0] < frames_pred.shape[0]:\n",
    "                    frames_pred = frames_pred[:gt.shape[0]]\n",
    "                \n",
    "                self.eval(frames_pred, gt, activity)\n",
    "        self.eval.report_results()"
   ]
  },
  {
   "cell_type": "markdown",
   "id": "a6712f14-9830-407c-952d-8c2773eedbe3",
   "metadata": {},
   "source": [
    "### Dino"
   ]
  },
  {
   "cell_type": "code",
   "execution_count": 15,
   "id": "75acee5c-57b0-4bac-b74f-6f337ff8b1cb",
   "metadata": {},
   "outputs": [
    {
     "name": "stdout",
     "output_type": "stream",
     "text": [
      "(1084, 768)\n",
      "(34, 768)\n",
      "(1084,)\n",
      "(1084,)\n",
      "IoU\n",
      "milk 0.1920259774216371\n",
      "Final IoU: 0.1920259774216371\n",
      "MoF\n",
      "milk 0.4621771217712177\n",
      "Final MoF: 0.4621771217712177\n"
     ]
    }
   ],
   "source": [
    "gt_path = \"./segmentation_coarse/milk/P05_stereo01_P05_milk.txt\"\n",
    "segment_bf = SegmentBreakfast(ClusterFactory.FINCH.value, distance='euclidean')\n",
    "segment_bf.eval.setup_key(\"milk\")\n",
    "segment_bf.with_dino_features(gt_path, \"milk\")\n",
    "segment_bf.eval.report_results()"
   ]
  },
  {
   "cell_type": "markdown",
   "id": "3a1da197-495b-4498-83b8-05b04781c3c3",
   "metadata": {},
   "source": [
    "### I3D - 10 frames window"
   ]
  },
  {
   "cell_type": "markdown",
   "id": "a6fe67c5-6fa6-4257-9851-58c8a85cba54",
   "metadata": {},
   "source": [
    "#### FINCH"
   ]
  },
  {
   "cell_type": "code",
   "execution_count": 41,
   "id": "c0bff13e-b810-4ee0-89d7-a70f298be6cd",
   "metadata": {
    "scrolled": true,
    "tags": []
   },
   "outputs": [
    {
     "name": "stdout",
     "output_type": "stream",
     "text": [
      "scrambledegg\n",
      "milk\n",
      "coffee\n",
      "salat\n",
      "cereals\n",
      "juice\n",
      "sandwich\n",
      "friedegg\n",
      "pancake\n",
      "tea\n",
      "IoU\n",
      "scrambledegg 0.21937542909717062\n",
      "milk 0.30921512078497077\n",
      "coffee 0.4322968158773649\n",
      "salat 0.2613176588049729\n",
      "cereals 0.3580702397814587\n",
      "juice 0.3011474732121522\n",
      "sandwich 0.2789197351987924\n",
      "friedegg 0.2571947464568169\n",
      "pancake 0.1668299105850468\n",
      "tea 0.38388753594767266\n",
      "Final IoU: 0.2968254665746418\n",
      "MoF\n",
      "scrambledegg 0.4949192158464852\n",
      "milk 0.5244504466980825\n",
      "coffee 0.5932198675179373\n",
      "salat 0.5215507099952937\n",
      "cereals 0.5712463457451351\n",
      "juice 0.5623120800695203\n",
      "sandwich 0.5169724101836979\n",
      "friedegg 0.5361555408150339\n",
      "pancake 0.5036918519491796\n",
      "tea 0.5653357256543338\n",
      "Final MoF: 0.5389854194474699\n"
     ]
    }
   ],
   "source": [
    "segment_bf = SegmentBreakfast(ClusterFactory.FINCH.value, distance='euclidean')\n",
    "segment_bf.with_i3d_features()"
   ]
  },
  {
   "cell_type": "code",
   "execution_count": 42,
   "id": "90dca152-70c8-44a9-8245-aafb4279a47a",
   "metadata": {
    "scrolled": true,
    "tags": []
   },
   "outputs": [
    {
     "name": "stdout",
     "output_type": "stream",
     "text": [
      "scrambledegg\n",
      "milk\n",
      "coffee\n",
      "salat\n",
      "cereals\n",
      "juice\n",
      "sandwich\n",
      "friedegg\n",
      "pancake\n",
      "tea\n",
      "IoU\n",
      "scrambledegg 0.18921414600451525\n",
      "milk 0.3586381401231825\n",
      "coffee 0.38705092654491946\n",
      "salat 0.2616861021001436\n",
      "cereals 0.330020909847416\n",
      "juice 0.29897349362976666\n",
      "sandwich 0.27733972591554495\n",
      "friedegg 0.1818792565554949\n",
      "pancake 0.13593884227256461\n",
      "tea 0.3622921919317755\n",
      "Final IoU: 0.2783033734925323\n",
      "MoF\n",
      "scrambledegg 0.5192310435540097\n",
      "milk 0.5677711787875898\n",
      "coffee 0.5629839777490341\n",
      "salat 0.5943123601518914\n",
      "cereals 0.5510214113225157\n",
      "juice 0.5925421268980945\n",
      "sandwich 0.5352234103438274\n",
      "friedegg 0.4998700888900831\n",
      "pancake 0.532318135156033\n",
      "tea 0.5780269649720894\n",
      "Final MoF: 0.5533300697825168\n"
     ]
    }
   ],
   "source": [
    "segment_bf = SegmentBreakfast(ClusterFactory.FINCH.value, distance='euclidean')\n",
    "segment_bf.with_i3d_features(pe=False)"
   ]
  },
  {
   "cell_type": "markdown",
   "id": "a5c4d09b-624f-48f0-a54d-cda724905973",
   "metadata": {},
   "source": [
    "#### KMeans"
   ]
  },
  {
   "cell_type": "code",
   "execution_count": 43,
   "id": "e3ea26a8-a4e1-45a9-aed8-d39ce09eb2df",
   "metadata": {
    "scrolled": true,
    "tags": []
   },
   "outputs": [
    {
     "name": "stdout",
     "output_type": "stream",
     "text": [
      "scrambledegg\n",
      "milk\n",
      "coffee\n",
      "salat\n",
      "cereals\n",
      "juice\n",
      "sandwich\n",
      "friedegg\n",
      "pancake\n",
      "tea\n",
      "IoU\n",
      "scrambledegg 0.24569211595374305\n",
      "milk 0.2620244789776222\n",
      "coffee 0.31612588656852963\n",
      "salat 0.21936522865869\n",
      "cereals 0.30220741730877027\n",
      "juice 0.29982126096249584\n",
      "sandwich 0.2624848347677802\n",
      "friedegg 0.24499466624764243\n",
      "pancake 0.2811480618743207\n",
      "tea 0.31156620270372903\n",
      "Final IoU: 0.27454301540233234\n",
      "MoF\n",
      "scrambledegg 0.13388516703773734\n",
      "milk 0.2112780021556078\n",
      "coffee 0.25785258659501503\n",
      "salat 0.07832612589414847\n",
      "cereals 0.2479994086857648\n",
      "juice 0.17219602339900886\n",
      "sandwich 0.16752833564208686\n",
      "friedegg 0.10680440585064416\n",
      "pancake 0.1258783673983448\n",
      "tea 0.25165459263818196\n",
      "Final MoF: 0.17534030152965402\n"
     ]
    }
   ],
   "source": [
    "segment_bf = SegmentBreakfast(ClusterFactory.KMEANS.value, n=2)\n",
    "segment_bf.with_i3d_features()"
   ]
  },
  {
   "cell_type": "code",
   "execution_count": 44,
   "id": "8f899a27-d14f-48d9-8d40-9f8ca7af2b66",
   "metadata": {
    "scrolled": true,
    "tags": []
   },
   "outputs": [
    {
     "name": "stdout",
     "output_type": "stream",
     "text": [
      "scrambledegg\n",
      "milk\n",
      "coffee\n",
      "salat\n",
      "cereals\n",
      "juice\n",
      "sandwich\n",
      "friedegg\n",
      "pancake\n",
      "tea\n",
      "IoU\n",
      "scrambledegg 0.23773258179875392\n",
      "milk 0.3926960642871622\n",
      "coffee 0.41546744969680294\n",
      "salat 0.3197975439885778\n",
      "cereals 0.3684666238916662\n",
      "juice 0.3759549375172653\n",
      "sandwich 0.3554737014925459\n",
      "friedegg 0.23509185812784084\n",
      "pancake 0.18310478792763066\n",
      "tea 0.4244680068499278\n",
      "Final IoU: 0.33082535555781734\n",
      "MoF\n",
      "scrambledegg 0.5437315674665464\n",
      "milk 0.5422928138423782\n",
      "coffee 0.5107503183785457\n",
      "salat 0.5547785338253038\n",
      "cereals 0.49012816272827775\n",
      "juice 0.641328629651066\n",
      "sandwich 0.5360922744382969\n",
      "friedegg 0.5067045394748768\n",
      "pancake 0.52628453642531\n",
      "tea 0.5555501513710838\n",
      "Final MoF: 0.5407641527601685\n"
     ]
    }
   ],
   "source": [
    "segment_bf = SegmentBreakfast(ClusterFactory.KMEANS.value, n=2)\n",
    "segment_bf.with_i3d_features(pe=False)"
   ]
  },
  {
   "cell_type": "markdown",
   "id": "1b72efe0-5a84-4f35-b111-50fe53b3cb6d",
   "metadata": {},
   "source": [
    "##### Reducing dim"
   ]
  },
  {
   "cell_type": "code",
   "execution_count": 21,
   "id": "070b1d3e-8444-484f-8201-233f28636a2d",
   "metadata": {
    "scrolled": true,
    "tags": []
   },
   "outputs": [
    {
     "name": "stdout",
     "output_type": "stream",
     "text": [
      "scrambledegg\n",
      "milk\n",
      "coffee\n",
      "salat\n",
      "cereals\n",
      "juice\n",
      "sandwich\n",
      "friedegg\n",
      "pancake\n",
      "tea\n",
      "IoU\n",
      "scrambledegg 0.35699515527311915\n",
      "milk 0.4508489984268366\n",
      "coffee 0.4389378188120492\n",
      "salat 0.32153315824803963\n",
      "cereals 0.4162359325656134\n",
      "juice 0.451835465666965\n",
      "sandwich 0.42848261307652075\n",
      "friedegg 0.3626075726093839\n",
      "pancake 0.32705640704951616\n",
      "tea 0.4549318497059475\n",
      "Final IoU: 0.40094649714339914\n",
      "MoF\n",
      "scrambledegg 0.5281391961512378\n",
      "milk 0.500689696572196\n",
      "coffee 0.4848902498286102\n",
      "salat 0.3145778233390751\n",
      "cereals 0.47912362424917077\n",
      "juice 0.5613876176790652\n",
      "sandwich 0.44556943163730567\n",
      "friedegg 0.3678887991689021\n",
      "pancake 0.4179699490981002\n",
      "tea 0.5326053228315147\n",
      "Final MoF: 0.4632841710555177\n"
     ]
    }
   ],
   "source": [
    "segment_bf = SegmentBreakfast(ClusterFactory.KMEANS.value, n=2)\n",
    "segment_bf.with_i3d_features(pe=True, red_dim=True)"
   ]
  },
  {
   "cell_type": "markdown",
   "id": "16cda5e6-9e33-497f-bcd2-6ba6ed783341",
   "metadata": {},
   "source": [
    "### I3D - 16 frames window"
   ]
  },
  {
   "cell_type": "markdown",
   "id": "64e8a2c8-8fd9-409e-a2c4-8ab733907bbb",
   "metadata": {},
   "source": [
    "#### FINCH"
   ]
  },
  {
   "cell_type": "code",
   "execution_count": 103,
   "id": "a327f389-ffc5-4c6f-b1e1-9972099fb18e",
   "metadata": {
    "scrolled": true,
    "tags": []
   },
   "outputs": [
    {
     "name": "stdout",
     "output_type": "stream",
     "text": [
      "scrambledegg\n",
      "milk\n",
      "coffee\n",
      "salat\n",
      "cereals\n",
      "juice\n",
      "sandwich\n",
      "friedegg\n",
      "pancake\n",
      "tea\n",
      "IoU\n",
      "scrambledegg 0.2021908325168955\n",
      "milk 0.3522475972634911\n",
      "coffee 0.46249219627751786\n",
      "salat 0.2731597363647072\n",
      "cereals 0.37124268104834535\n",
      "juice 0.29898742677512385\n",
      "sandwich 0.30671439329001937\n",
      "friedegg 0.24439101994861123\n",
      "pancake 0.15103615830550693\n",
      "tea 0.3873135086629669\n",
      "Final IoU: 0.3049775550453185\n",
      "MoF\n",
      "scrambledegg 0.4736157185546958\n",
      "milk 0.5698705690379768\n",
      "coffee 0.6245376619738967\n",
      "salat 0.5324945583257813\n",
      "cereals 0.5991134733351065\n",
      "juice 0.5647786368843444\n",
      "sandwich 0.5463543419014931\n",
      "friedegg 0.5541276287129175\n",
      "pancake 0.5003372121897915\n",
      "tea 0.5798002558843395\n",
      "Final MoF: 0.5545030056800344\n"
     ]
    }
   ],
   "source": [
    "segment_bf = SegmentBreakfast(ClusterFactory.FINCH.value, distance='euclidean')\n",
    "segment_bf.with_i3d_features(pe=True, frames_window_len=16)"
   ]
  },
  {
   "cell_type": "code",
   "execution_count": 110,
   "id": "5256a4ac-ad18-4b7d-84ad-8d16e1813657",
   "metadata": {
    "scrolled": true,
    "tags": []
   },
   "outputs": [
    {
     "name": "stdout",
     "output_type": "stream",
     "text": [
      "scrambledegg\n",
      "milk\n",
      "coffee\n",
      "salat\n",
      "cereals\n",
      "juice\n",
      "sandwich\n",
      "friedegg\n",
      "pancake\n",
      "tea\n",
      "IoU\n",
      "scrambledegg 0.18641729424570447\n",
      "milk 0.3450914832053043\n",
      "coffee 0.39245268985244264\n",
      "salat 0.26097604017135506\n",
      "cereals 0.33703464289510604\n",
      "juice 0.26490938550865917\n",
      "sandwich 0.2831137135371198\n",
      "friedegg 0.1875153250704242\n",
      "pancake 0.13970961794499093\n",
      "tea 0.37042557360840217\n",
      "Final IoU: 0.2767645766039509\n",
      "MoF\n",
      "scrambledegg 0.5079768791290823\n",
      "milk 0.5533516881959863\n",
      "coffee 0.5492418590011672\n",
      "salat 0.584286730491668\n",
      "cereals 0.5311341882126479\n",
      "juice 0.5796906262132145\n",
      "sandwich 0.5437091870429099\n",
      "friedegg 0.4956623148063631\n",
      "pancake 0.5222455901637358\n",
      "tea 0.5614082407712337\n",
      "Final MoF: 0.5428707304028008\n"
     ]
    }
   ],
   "source": [
    "segment_bf = SegmentBreakfast(ClusterFactory.FINCH.value, distance='euclidean')\n",
    "segment_bf.with_i3d_features(pe=False, frames_window_len=16)"
   ]
  },
  {
   "cell_type": "markdown",
   "id": "4d741830-3299-4e41-a5c7-c9e91d5e7743",
   "metadata": {},
   "source": [
    "#### KMeans"
   ]
  },
  {
   "cell_type": "code",
   "execution_count": 111,
   "id": "0e479c7d-2798-4da1-b5a4-fe9f21b91eaf",
   "metadata": {
    "scrolled": true,
    "tags": []
   },
   "outputs": [
    {
     "name": "stdout",
     "output_type": "stream",
     "text": [
      "scrambledegg\n",
      "milk\n",
      "coffee\n",
      "salat\n",
      "cereals\n",
      "juice\n",
      "sandwich\n",
      "friedegg\n",
      "pancake\n",
      "tea\n",
      "IoU\n",
      "scrambledegg 0.3123357621396277\n",
      "milk 0.35150236033262117\n",
      "coffee 0.3992055652382021\n",
      "salat 0.2541750298302493\n",
      "cereals 0.38746443015876075\n",
      "juice 0.3911337584180293\n",
      "sandwich 0.3298179719922048\n",
      "friedegg 0.3194464137638651\n",
      "pancake 0.30988775510837535\n",
      "tea 0.4133540712149938\n",
      "Final IoU: 0.346832311819693\n",
      "MoF\n",
      "scrambledegg 0.1910872899934587\n",
      "milk 0.30721600196817583\n",
      "coffee 0.36739164245087297\n",
      "salat 0.10560871249486792\n",
      "cereals 0.35627397188036763\n",
      "juice 0.24443833914783125\n",
      "sandwich 0.23485332421037883\n",
      "friedegg 0.14627619348182969\n",
      "pancake 0.1363776064113473\n",
      "tea 0.3671198329762229\n",
      "Final MoF: 0.2456642915015353\n"
     ]
    }
   ],
   "source": [
    "segment_bf = SegmentBreakfast(ClusterFactory.KMEANS.value, n=2)\n",
    "segment_bf.with_i3d_features(pe=True, frames_window_len=16)"
   ]
  },
  {
   "cell_type": "code",
   "execution_count": 112,
   "id": "80705737-4180-4e57-a3e7-4173fbfcccb7",
   "metadata": {
    "scrolled": true,
    "tags": []
   },
   "outputs": [
    {
     "name": "stdout",
     "output_type": "stream",
     "text": [
      "scrambledegg\n",
      "milk\n",
      "coffee\n",
      "salat\n",
      "cereals\n",
      "juice\n",
      "sandwich\n",
      "friedegg\n",
      "pancake\n",
      "tea\n",
      "IoU\n",
      "scrambledegg 0.22712040199756284\n",
      "milk 0.3777805305876598\n",
      "coffee 0.3957559499356925\n",
      "salat 0.32686563232221294\n",
      "cereals 0.35287093931124874\n",
      "juice 0.3660305101391983\n",
      "sandwich 0.3370311050124223\n",
      "friedegg 0.23655873211207973\n",
      "pancake 0.1863587059982819\n",
      "tea 0.41381987855703434\n",
      "Final IoU: 0.32201923859733933\n",
      "MoF\n",
      "scrambledegg 0.5443319035706573\n",
      "milk 0.5342097154865509\n",
      "coffee 0.50829749295126\n",
      "salat 0.5701761362207883\n",
      "cereals 0.5005320185231016\n",
      "juice 0.6294322044025641\n",
      "sandwich 0.5256139463019233\n",
      "friedegg 0.513016878669566\n",
      "pancake 0.525805346228876\n",
      "tea 0.5572947473122442\n",
      "Final MoF: 0.5408710389667531\n"
     ]
    }
   ],
   "source": [
    "segment_bf = SegmentBreakfast(ClusterFactory.KMEANS.value, n=2)\n",
    "segment_bf.with_i3d_features(pe=False, frames_window_len=16)"
   ]
  },
  {
   "cell_type": "markdown",
   "id": "0a52e26a-4a34-4e39-8fb5-e3c7794d8cb8",
   "metadata": {},
   "source": [
    "### I3D - 24 frames"
   ]
  },
  {
   "cell_type": "markdown",
   "id": "4ae95c6a-86ad-4649-94b5-21dce972583f",
   "metadata": {},
   "source": [
    "#### FINCH"
   ]
  },
  {
   "cell_type": "code",
   "execution_count": 104,
   "id": "d7dc6b34-17d9-4178-ae9b-8b43ac1b8b1b",
   "metadata": {
    "scrolled": true,
    "tags": []
   },
   "outputs": [
    {
     "name": "stdout",
     "output_type": "stream",
     "text": [
      "scrambledegg\n",
      "milk\n",
      "coffee\n",
      "salat\n",
      "cereals\n",
      "juice\n",
      "sandwich\n",
      "friedegg\n",
      "pancake\n",
      "tea\n",
      "IoU\n",
      "scrambledegg 0.22468778583148682\n",
      "milk 0.3446077403728451\n",
      "coffee 0.4368720936718192\n",
      "salat 0.2712044253353242\n",
      "cereals 0.36275746059365643\n",
      "juice 0.332704134100771\n",
      "sandwich 0.30999448826110826\n",
      "friedegg 0.2966315853498777\n",
      "pancake 0.20553044350944774\n",
      "tea 0.42449817930911743\n",
      "Final IoU: 0.3209488336335454\n",
      "MoF\n",
      "scrambledegg 0.5108255937895211\n",
      "milk 0.5707358550480134\n",
      "coffee 0.6109880685588212\n",
      "salat 0.5177180389198852\n",
      "cereals 0.5925708247890158\n",
      "juice 0.5756459507554107\n",
      "sandwich 0.5511577556601063\n",
      "friedegg 0.5875919108477251\n",
      "pancake 0.5087575065650904\n",
      "tea 0.6072423336668681\n",
      "Final MoF: 0.5633233838600458\n"
     ]
    }
   ],
   "source": [
    "segment_bf = SegmentBreakfast(ClusterFactory.FINCH.value, distance='euclidean')\n",
    "segment_bf.with_i3d_features(pe=True, frames_window_len=24)"
   ]
  },
  {
   "cell_type": "code",
   "execution_count": 105,
   "id": "a3c4ff13-5c9d-4529-b294-85bb64e6fd05",
   "metadata": {
    "scrolled": true,
    "tags": []
   },
   "outputs": [
    {
     "name": "stdout",
     "output_type": "stream",
     "text": [
      "scrambledegg\n",
      "milk\n",
      "coffee\n",
      "salat\n",
      "cereals\n",
      "juice\n",
      "sandwich\n",
      "friedegg\n",
      "pancake\n",
      "tea\n",
      "IoU\n",
      "scrambledegg 0.18138798829351416\n",
      "milk 0.34498239429443833\n",
      "coffee 0.411827896724777\n",
      "salat 0.25689765691690253\n",
      "cereals 0.33794986151037204\n",
      "juice 0.24508864714163484\n",
      "sandwich 0.27542476703499524\n",
      "friedegg 0.180694284880978\n",
      "pancake 0.1431020130742935\n",
      "tea 0.4026730830673279\n",
      "Final IoU: 0.2780028592939233\n",
      "MoF\n",
      "scrambledegg 0.49933887118636033\n",
      "milk 0.5448514990696911\n",
      "coffee 0.5724631722829714\n",
      "salat 0.58292511409872\n",
      "cereals 0.5349544596459055\n",
      "juice 0.5626550641830533\n",
      "sandwich 0.5328953907936755\n",
      "friedegg 0.5008001532216425\n",
      "pancake 0.541890073898244\n",
      "tea 0.5771870076949915\n",
      "Final MoF: 0.5449960806075256\n"
     ]
    }
   ],
   "source": [
    "segment_bf = SegmentBreakfast(ClusterFactory.FINCH.value, distance='euclidean')\n",
    "segment_bf.with_i3d_features(pe=False, frames_window_len=24)"
   ]
  },
  {
   "cell_type": "markdown",
   "id": "83e488e6-789b-4ee1-9c93-359274c78901",
   "metadata": {},
   "source": [
    "### I3D - 32 frames"
   ]
  },
  {
   "cell_type": "markdown",
   "id": "37d09253-1c5c-4656-bc33-ae7262c53687",
   "metadata": {},
   "source": [
    "#### FINCH"
   ]
  },
  {
   "cell_type": "code",
   "execution_count": 240,
   "id": "e2ef04d4-4edd-4aa7-9b2e-da639a0406dd",
   "metadata": {
    "scrolled": true,
    "tags": []
   },
   "outputs": [
    {
     "name": "stdout",
     "output_type": "stream",
     "text": [
      "scrambledegg\n",
      "milk\n",
      "coffee\n",
      "salat\n",
      "cereals\n",
      "juice\n",
      "sandwich\n",
      "friedegg\n",
      "pancake\n",
      "tea\n",
      "IoU\n",
      "scrambledegg 0.24057416016420333\n",
      "milk 0.3493245757350147\n",
      "coffee 0.4316797566212765\n",
      "salat 0.275995895623317\n",
      "cereals 0.394898782423432\n",
      "juice 0.3579448545714763\n",
      "sandwich 0.31569865719002926\n",
      "friedegg 0.2819895510188504\n",
      "pancake 0.20481846498829315\n",
      "tea 0.4451489741768528\n",
      "Final IoU: 0.3298073672512745\n",
      "MoF\n",
      "scrambledegg 0.5213979054036065\n",
      "milk 0.5733457826649491\n",
      "coffee 0.6390450751175081\n",
      "salat 0.5119554326828593\n",
      "cereals 0.6212432743123653\n",
      "juice 0.6055949259674743\n",
      "sandwich 0.571556168384594\n",
      "friedegg 0.5598094528617238\n",
      "pancake 0.5127093351298322\n",
      "tea 0.6300158426129798\n",
      "Final MoF: 0.5746673195137892\n"
     ]
    }
   ],
   "source": [
    "segment_bf = SegmentBreakfast(ClusterFactory.FINCH.value, distance='euclidean')\n",
    "segment_bf.with_i3d_features(pe=True, frames_window_len=32)"
   ]
  },
  {
   "cell_type": "code",
   "execution_count": 241,
   "id": "09bb007e-9886-445d-b60d-7204a1ad192a",
   "metadata": {
    "scrolled": true,
    "tags": []
   },
   "outputs": [
    {
     "name": "stdout",
     "output_type": "stream",
     "text": [
      "scrambledegg\n",
      "milk\n",
      "coffee\n",
      "salat\n",
      "cereals\n",
      "juice\n",
      "sandwich\n",
      "friedegg\n",
      "pancake\n",
      "tea\n",
      "IoU\n",
      "scrambledegg 0.18660488802702263\n",
      "milk 0.36972829088682746\n",
      "coffee 0.4229261892538202\n",
      "salat 0.2627030060311495\n",
      "cereals 0.3650357828288671\n",
      "juice 0.25254765797244066\n",
      "sandwich 0.28528184903860493\n",
      "friedegg 0.180074011085736\n",
      "pancake 0.14545973533730755\n",
      "tea 0.3902196727737753\n",
      "Final IoU: 0.2860581083235552\n",
      "MoF\n",
      "scrambledegg 0.5013731072097477\n",
      "milk 0.5662908539832118\n",
      "coffee 0.5940380875430484\n",
      "salat 0.6018035619701078\n",
      "cereals 0.5627242074963297\n",
      "juice 0.5792203502307474\n",
      "sandwich 0.5304315777843219\n",
      "friedegg 0.49908893468098914\n",
      "pancake 0.5297070415676083\n",
      "tea 0.5755540750004486\n",
      "Final MoF: 0.554023179746656\n"
     ]
    }
   ],
   "source": [
    "segment_bf = SegmentBreakfast(ClusterFactory.FINCH.value, distance='euclidean')\n",
    "segment_bf.with_i3d_features(pe=False, frames_window_len=32)"
   ]
  },
  {
   "cell_type": "markdown",
   "id": "37da7cfc-844b-4fe1-8c1d-d10a53f2cf85",
   "metadata": {},
   "source": [
    "### I3D - 40 frames"
   ]
  },
  {
   "cell_type": "markdown",
   "id": "78a976d9-e282-4bd1-a454-634005d34e67",
   "metadata": {},
   "source": [
    "#### FINCH"
   ]
  },
  {
   "cell_type": "code",
   "execution_count": 9,
   "id": "62d9384d-f8a6-4eed-ae86-192f88afddad",
   "metadata": {},
   "outputs": [
    {
     "name": "stdout",
     "output_type": "stream",
     "text": [
      "scrambledegg\n",
      "milk\n",
      "coffee\n",
      "salat\n",
      "cereals\n",
      "juice\n",
      "sandwich\n",
      "friedegg\n",
      "pancake\n",
      "tea\n",
      "IoU\n",
      "scrambledegg 0.28295756323536353\n",
      "milk 0.3658964044135728\n",
      "coffee 0.45733853311524364\n",
      "salat 0.28461638467039857\n",
      "cereals 0.36325199778098477\n",
      "juice 0.34572873642426816\n",
      "sandwich 0.3139915128665103\n",
      "friedegg 0.298863329363135\n",
      "pancake 0.21567084254923355\n",
      "tea 0.40451343970054454\n",
      "Final IoU: 0.3332828744119255\n",
      "MoF\n",
      "scrambledegg 0.5490951305018168\n",
      "milk 0.5842768770509109\n",
      "coffee 0.6680670518325774\n",
      "salat 0.5090788474054228\n",
      "cereals 0.6149479592089859\n",
      "juice 0.5900505065883787\n",
      "sandwich 0.5697317542454393\n",
      "friedegg 0.5621127416883952\n",
      "pancake 0.5153882197443632\n",
      "tea 0.6107450568761169\n",
      "Final MoF: 0.5773494145142407\n"
     ]
    }
   ],
   "source": [
    "segment_bf = SegmentBreakfast(ClusterFactory.FINCH.value, distance='euclidean')\n",
    "segment_bf.with_i3d_features(pe=True, frames_window_len=40, red_dim=False)"
   ]
  },
  {
   "cell_type": "code",
   "execution_count": 10,
   "id": "0a6e7725-be21-463c-8f84-03765fd980e6",
   "metadata": {},
   "outputs": [
    {
     "name": "stdout",
     "output_type": "stream",
     "text": [
      "scrambledegg\n",
      "milk\n",
      "coffee\n",
      "salat\n",
      "cereals\n",
      "juice\n",
      "sandwich\n",
      "friedegg\n",
      "pancake\n",
      "tea\n",
      "IoU\n",
      "scrambledegg 0.19344532955013097\n",
      "milk 0.3748394677243293\n",
      "coffee 0.42642600090077354\n",
      "salat 0.2709563293718855\n",
      "cereals 0.35792285400842144\n",
      "juice 0.24683053203722993\n",
      "sandwich 0.31128834475858475\n",
      "friedegg 0.18625430500896906\n",
      "pancake 0.15176136304686907\n",
      "tea 0.405431832074263\n",
      "Final IoU: 0.29251563584814566\n",
      "MoF\n",
      "scrambledegg 0.5254574573784433\n",
      "milk 0.5742398880968389\n",
      "coffee 0.5951981361946335\n",
      "salat 0.5798371897882431\n",
      "cereals 0.5774589522176302\n",
      "juice 0.5715535500843135\n",
      "sandwich 0.5437571333229426\n",
      "friedegg 0.4968969078511716\n",
      "pancake 0.5453491727089785\n",
      "tea 0.59731800758161\n",
      "Final MoF: 0.5607066395224806\n"
     ]
    }
   ],
   "source": [
    "segment_bf = SegmentBreakfast(ClusterFactory.FINCH.value, distance='euclidean')\n",
    "segment_bf.with_i3d_features(pe=False, frames_window_len=40, red_dim=False)"
   ]
  },
  {
   "cell_type": "markdown",
   "id": "0492160c-8492-4429-9566-9c40fd1d61b4",
   "metadata": {},
   "source": [
    "### FINCH"
   ]
  },
  {
   "cell_type": "markdown",
   "id": "1dd3e7b3-0813-4bfa-b874-f0c2e04b4fe9",
   "metadata": {},
   "source": [
    "#### I3D - 48 frames"
   ]
  },
  {
   "cell_type": "code",
   "execution_count": 12,
   "id": "bf5b422b-08ae-48e7-b688-577abc5899f2",
   "metadata": {},
   "outputs": [
    {
     "name": "stdout",
     "output_type": "stream",
     "text": [
      "scrambledegg\n",
      "milk\n",
      "coffee\n",
      "salat\n",
      "cereals\n",
      "juice\n",
      "sandwich\n",
      "friedegg\n",
      "pancake\n",
      "tea\n",
      "IoU\n",
      "scrambledegg 0.2669622270664998\n",
      "milk 0.36619033197419193\n",
      "coffee 0.45188046386885644\n",
      "salat 0.2892576316710857\n",
      "cereals 0.3844357308187821\n",
      "juice 0.3727100327141136\n",
      "sandwich 0.3464650710256153\n",
      "friedegg 0.3120171446192082\n",
      "pancake 0.2511193544100761\n",
      "tea 0.38901370394032797\n",
      "Final IoU: 0.34300516921087576\n",
      "MoF\n",
      "scrambledegg 0.5344658088090563\n",
      "milk 0.6009152124868639\n",
      "coffee 0.660669756232083\n",
      "salat 0.4738419991600415\n",
      "cereals 0.6463413570508597\n",
      "juice 0.5926095718604223\n",
      "sandwich 0.5839335008464827\n",
      "friedegg 0.5418254478872937\n",
      "pancake 0.5307736117656676\n",
      "tea 0.6100419110558748\n",
      "Final MoF: 0.5775418177154645\n"
     ]
    }
   ],
   "source": [
    "segment_bf = SegmentBreakfast(ClusterFactory.FINCH.value, distance='euclidean')\n",
    "segment_bf.with_i3d_features(pe=True, frames_window_len=48, red_dim=False)"
   ]
  },
  {
   "cell_type": "code",
   "execution_count": 9,
   "id": "4a1f3087-3eff-4a51-8cd9-1a8fdc403782",
   "metadata": {},
   "outputs": [
    {
     "name": "stdout",
     "output_type": "stream",
     "text": [
      "scrambledegg\n",
      "milk\n",
      "coffee\n",
      "salat\n",
      "cereals\n",
      "juice\n",
      "sandwich\n",
      "friedegg\n",
      "pancake\n",
      "tea\n",
      "IoU\n",
      "scrambledegg 0.1824915579226137\n",
      "milk 0.40565532030451695\n",
      "coffee 0.4553261635633942\n",
      "salat 0.2678445839038869\n",
      "cereals 0.3589322221916683\n",
      "juice 0.26436889735101304\n",
      "sandwich 0.3023692947650875\n",
      "friedegg 0.18512751669269104\n",
      "pancake 0.15755464724558962\n",
      "tea 0.40781522546796184\n",
      "Final IoU: 0.29874854294084235\n",
      "MoF\n",
      "scrambledegg 0.516725854224287\n",
      "milk 0.6067808037127299\n",
      "coffee 0.6524835973408804\n",
      "salat 0.5946101038813856\n",
      "cereals 0.5852480698960892\n",
      "juice 0.5892995288409527\n",
      "sandwich 0.5511848360285709\n",
      "friedegg 0.5007797110919967\n",
      "pancake 0.5350893399766907\n",
      "tea 0.6105676846476716\n",
      "Final MoF: 0.5742769529641254\n"
     ]
    }
   ],
   "source": [
    "segment_bf = SegmentBreakfast(ClusterFactory.FINCH.value, distance='euclidean')\n",
    "segment_bf.with_i3d_features(pe=False, frames_window_len=48, red_dim=False)"
   ]
  },
  {
   "cell_type": "markdown",
   "id": "074a212e-1181-494f-a7b9-3ee810d5d6c3",
   "metadata": {},
   "source": [
    "#### I3D - 64 frames"
   ]
  },
  {
   "cell_type": "code",
   "execution_count": 11,
   "id": "13fd73cb-df69-4be8-b350-5693b7a85f56",
   "metadata": {},
   "outputs": [
    {
     "name": "stdout",
     "output_type": "stream",
     "text": [
      "scrambledegg\n",
      "milk\n",
      "coffee\n",
      "salat\n",
      "cereals\n",
      "juice\n",
      "sandwich\n",
      "friedegg\n",
      "pancake\n",
      "tea\n",
      "IoU\n",
      "scrambledegg 0.35094466469508406\n",
      "milk 0.3931244052476232\n",
      "coffee 0.45475287249211566\n",
      "salat 0.28491207127498647\n",
      "cereals 0.34553524013338455\n",
      "juice 0.37121101319015115\n",
      "sandwich 0.36625661346213845\n",
      "friedegg 0.31967583913325043\n",
      "pancake 0.3095221961304784\n",
      "tea 0.35695643778340524\n",
      "Final IoU: 0.35528913535426176\n",
      "MoF\n",
      "scrambledegg 0.5686334871060843\n",
      "milk 0.6360138567817593\n",
      "coffee 0.684190071431604\n",
      "salat 0.41496926521065647\n",
      "cereals 0.6324606093607195\n",
      "juice 0.5851137227522369\n",
      "sandwich 0.5980685771719695\n",
      "friedegg 0.505784288756637\n",
      "pancake 0.5069256667982316\n",
      "tea 0.6173228206937253\n",
      "Final MoF: 0.5749482366063623\n"
     ]
    }
   ],
   "source": [
    "segment_bf = SegmentBreakfast(ClusterFactory.FINCH.value, distance='euclidean')\n",
    "segment_bf.with_i3d_features(pe=True, frames_window_len=64, red_dim=False)"
   ]
  },
  {
   "cell_type": "code",
   "execution_count": 10,
   "id": "eacabe36-de94-482c-9822-3a781b5e4211",
   "metadata": {},
   "outputs": [
    {
     "name": "stdout",
     "output_type": "stream",
     "text": [
      "scrambledegg\n",
      "milk\n",
      "coffee\n",
      "salat\n",
      "cereals\n",
      "juice\n",
      "sandwich\n",
      "friedegg\n",
      "pancake\n",
      "tea\n",
      "IoU\n",
      "scrambledegg 0.1800078699612604\n",
      "milk 0.3997298432755986\n",
      "coffee 0.4587230091076095\n",
      "salat 0.26752119281576814\n",
      "cereals 0.34414650885304726\n",
      "juice 0.2687734358427447\n",
      "sandwich 0.33075185995782524\n",
      "friedegg 0.2053331147682564\n",
      "pancake 0.15027052029843882\n",
      "tea 0.3567227560584269\n",
      "Final IoU: 0.2961980110938976\n",
      "MoF\n",
      "scrambledegg 0.5055273754362944\n",
      "milk 0.6285175040539531\n",
      "coffee 0.6690957578529402\n",
      "salat 0.5793138576674712\n",
      "cereals 0.6056809317913394\n",
      "juice 0.5797236401405087\n",
      "sandwich 0.573550785455343\n",
      "friedegg 0.5167649137250405\n",
      "pancake 0.5424050894092208\n",
      "tea 0.598950579517204\n",
      "Final MoF: 0.5799530435049316\n"
     ]
    }
   ],
   "source": [
    "segment_bf = SegmentBreakfast(ClusterFactory.FINCH.value, distance='euclidean')\n",
    "segment_bf.with_i3d_features(pe=False, frames_window_len=64, red_dim=False)"
   ]
  },
  {
   "cell_type": "markdown",
   "id": "48540207-8d35-4390-9290-3a442395c21f",
   "metadata": {},
   "source": [
    "### Slowfast"
   ]
  },
  {
   "cell_type": "markdown",
   "id": "0e9233d0-7a9d-4648-9b9f-433818918018",
   "metadata": {},
   "source": [
    "#### FINCH - 32"
   ]
  },
  {
   "cell_type": "code",
   "execution_count": 5,
   "id": "9e08ca5a-53eb-445e-8ee7-a3e9eeab9a22",
   "metadata": {
    "tags": []
   },
   "outputs": [
    {
     "name": "stdout",
     "output_type": "stream",
     "text": [
      "Finished scrambledegg\n",
      "Finished milk\n",
      "Finished coffee\n",
      "Finished salat\n",
      "Finished cereals\n",
      "Finished juice\n",
      "Finished sandwich\n",
      "Finished friedegg\n",
      "Finished pancake\n",
      "Finished tea\n",
      "IoU\n",
      "scrambledegg 0.3872836046809749\n",
      "milk 0.4452045108740749\n",
      "coffee 0.4702470946652765\n",
      "salat 0.32683334592092134\n",
      "cereals 0.4050870649961108\n",
      "juice 0.4109424237995928\n",
      "sandwich 0.4019749735742902\n",
      "friedegg 0.3949707733223815\n",
      "pancake 0.33021242209567936\n",
      "tea 0.4725235808261186\n",
      "Final IoU: 0.40452797947554214\n",
      "MoF\n",
      "scrambledegg 0.4979556287335765\n",
      "milk 0.593888785125077\n",
      "coffee 0.641052027853303\n",
      "salat 0.401320670012181\n",
      "cereals 0.5997081816636226\n",
      "juice 0.5399103840366323\n",
      "sandwich 0.542970680135906\n",
      "friedegg 0.4539529007459106\n",
      "pancake 0.43824548151266385\n",
      "tea 0.6135737706817119\n",
      "Final MoF: 0.5322578510500584\n"
     ]
    }
   ],
   "source": [
    "segment_bf = SegmentBreakfast(ClusterFactory.FINCH.value, distance='euclidean')\n",
    "segment_bf.with_slowfast_features(pe=True, red_dim=False)"
   ]
  },
  {
   "cell_type": "code",
   "execution_count": 6,
   "id": "6e128a56-42c7-4654-9a2d-60201ce53a54",
   "metadata": {
    "tags": []
   },
   "outputs": [
    {
     "name": "stdout",
     "output_type": "stream",
     "text": [
      "Finished scrambledegg\n",
      "Finished milk\n",
      "Finished coffee\n",
      "Finished salat\n",
      "Finished cereals\n",
      "Finished juice\n",
      "Finished sandwich\n",
      "Finished friedegg\n",
      "Finished pancake\n",
      "Finished tea\n",
      "IoU\n",
      "scrambledegg 0.17910730440437259\n",
      "milk 0.34681125806534835\n",
      "coffee 0.39999191205664386\n",
      "salat 0.24918041308292846\n",
      "cereals 0.34299084404784513\n",
      "juice 0.2669801170377771\n",
      "sandwich 0.2690645226206919\n",
      "friedegg 0.19053535979465974\n",
      "pancake 0.12971173872166816\n",
      "tea 0.3809278474651084\n",
      "Final IoU: 0.2755301317297044\n",
      "MoF\n",
      "scrambledegg 0.4954569915222257\n",
      "milk 0.5566612562028692\n",
      "coffee 0.5553917082762599\n",
      "salat 0.5473122808882099\n",
      "cereals 0.5489083284127471\n",
      "juice 0.5801050729607882\n",
      "sandwich 0.5211971755690568\n",
      "friedegg 0.50300176255172\n",
      "pancake 0.5171765229510886\n",
      "tea 0.5735655083762751\n",
      "Final MoF: 0.539877660771124\n"
     ]
    }
   ],
   "source": [
    "segment_bf = SegmentBreakfast(ClusterFactory.FINCH.value, distance='euclidean')\n",
    "segment_bf.with_slowfast_features(pe=False, red_dim=False)"
   ]
  },
  {
   "cell_type": "markdown",
   "id": "a47b7a99-ae91-4c50-9591-e687fd131fc9",
   "metadata": {},
   "source": [
    "#### FINCH - 40"
   ]
  },
  {
   "cell_type": "code",
   "execution_count": 21,
   "id": "954f3efb-4eb6-49e0-b643-09ebdebe37dc",
   "metadata": {},
   "outputs": [
    {
     "name": "stdout",
     "output_type": "stream",
     "text": [
      "Finished scrambledegg\n",
      "Finished milk\n",
      "Finished coffee\n",
      "Finished salat\n",
      "Finished cereals\n",
      "Finished juice\n",
      "Finished sandwich\n",
      "Finished friedegg\n",
      "Finished pancake\n",
      "Finished tea\n",
      "IoU\n",
      "scrambledegg 0.332770372496813\n",
      "milk 0.3894850492383093\n",
      "coffee 0.46204904382372225\n",
      "salat 0.2940922684563559\n",
      "cereals 0.3912183192524095\n",
      "juice 0.33277246003861877\n",
      "sandwich 0.40698593795914056\n",
      "friedegg 0.35038592322874357\n",
      "pancake 0.3282653733383392\n",
      "tea 0.40679044959629956\n",
      "Final IoU: 0.36948151974287524\n",
      "MoF\n",
      "scrambledegg 0.5035543764678203\n",
      "milk 0.5999355282099204\n",
      "coffee 0.6378153237419106\n",
      "salat 0.44126107473076637\n",
      "cereals 0.6250545934732538\n",
      "juice 0.5173847187703334\n",
      "sandwich 0.5737174306768507\n",
      "friedegg 0.47660246038874376\n",
      "pancake 0.4840897987352521\n",
      "tea 0.6161924314693366\n",
      "Final MoF: 0.5475607736664189\n"
     ]
    }
   ],
   "source": [
    "segment_bf = SegmentBreakfast(ClusterFactory.FINCH.value, distance='euclidean')\n",
    "segment_bf.with_slowfast_features(pe=True, frames_len=40, red_dim=False)"
   ]
  },
  {
   "cell_type": "code",
   "execution_count": 178,
   "id": "161e0f56-322d-4faa-bc7a-6c97f559f77a",
   "metadata": {},
   "outputs": [
    {
     "name": "stdout",
     "output_type": "stream",
     "text": [
      "Finished scrambledegg\n",
      "Finished milk\n",
      "Finished coffee\n",
      "Finished salat\n",
      "Finished cereals\n",
      "Finished juice\n",
      "Finished sandwich\n",
      "Finished friedegg\n",
      "Finished pancake\n",
      "Finished tea\n",
      "IoU\n",
      "scrambledegg 0.1754329460412568\n",
      "milk 0.34710805609794865\n",
      "coffee 0.39323352538900397\n",
      "salat 0.24463026578526195\n",
      "cereals 0.33584138884379205\n",
      "juice 0.26403360389062386\n",
      "sandwich 0.25549985656100516\n",
      "friedegg 0.172932285366102\n",
      "pancake 0.13919499814938452\n",
      "tea 0.3664703538295595\n",
      "Final IoU: 0.2694377279953938\n",
      "MoF\n",
      "scrambledegg 0.5065905012666967\n",
      "milk 0.5482981637304515\n",
      "coffee 0.5862080421277331\n",
      "salat 0.5524592541163669\n",
      "cereals 0.5451541901467974\n",
      "juice 0.571154208554819\n",
      "sandwich 0.5104357364012778\n",
      "friedegg 0.4918303125059761\n",
      "pancake 0.5195161425313164\n",
      "tea 0.5576192081659923\n",
      "Final MoF: 0.5389265759547428\n"
     ]
    }
   ],
   "source": [
    "segment_bf = SegmentBreakfast(ClusterFactory.FINCH.value, distance='euclidean')\n",
    "segment_bf.with_slowfast_features(pe=False, frames_len=40, red_dim=False)"
   ]
  },
  {
   "cell_type": "markdown",
   "id": "2495c0e8-83f4-4933-9dad-71d2d811b311",
   "metadata": {},
   "source": [
    "#### FINCH - 48"
   ]
  },
  {
   "cell_type": "code",
   "execution_count": 216,
   "id": "4c37973d-6974-4180-b1e3-b307a68530d4",
   "metadata": {},
   "outputs": [
    {
     "name": "stdout",
     "output_type": "stream",
     "text": [
      "Finished scrambledegg\n",
      "Finished milk\n",
      "Finished coffee\n",
      "Finished salat\n",
      "Finished cereals\n",
      "Finished juice\n",
      "Finished sandwich\n",
      "Finished friedegg\n",
      "Finished pancake\n",
      "Finished tea\n",
      "IoU\n",
      "scrambledegg 0.32339893394233105\n",
      "milk 0.3792268503706952\n",
      "coffee 0.4584698110509006\n",
      "salat 0.30498484540712567\n",
      "cereals 0.39423739311742184\n",
      "juice 0.3489525217510502\n",
      "sandwich 0.3532589815590539\n",
      "friedegg 0.3496238513990536\n",
      "pancake 0.29229003402754117\n",
      "tea 0.3992442193850465\n",
      "Final IoU: 0.36036874420102194\n",
      "MoF\n",
      "scrambledegg 0.536415396015695\n",
      "milk 0.5971379067023246\n",
      "coffee 0.6658970503607614\n",
      "salat 0.4657423384168389\n",
      "cereals 0.6312671601284291\n",
      "juice 0.5708558540254424\n",
      "sandwich 0.5679025953439955\n",
      "friedegg 0.5292919387006801\n",
      "pancake 0.48261489035325117\n",
      "tea 0.6254306409937311\n",
      "Final MoF: 0.567255577104115\n"
     ]
    }
   ],
   "source": [
    "segment_bf = SegmentBreakfast(ClusterFactory.FINCH.value, distance='euclidean')\n",
    "segment_bf.with_slowfast_features(pe=True, frames_len=48, red_dim=False)"
   ]
  },
  {
   "cell_type": "code",
   "execution_count": 217,
   "id": "a0c032fb-3ae0-4925-9125-de99e3b3bbed",
   "metadata": {},
   "outputs": [
    {
     "name": "stdout",
     "output_type": "stream",
     "text": [
      "Finished scrambledegg\n",
      "Finished milk\n",
      "Finished coffee\n",
      "Finished salat\n",
      "Finished cereals\n",
      "Finished juice\n",
      "Finished sandwich\n",
      "Finished friedegg\n",
      "Finished pancake\n",
      "Finished tea\n",
      "IoU\n",
      "scrambledegg 0.1805710375389745\n",
      "milk 0.35379434834701884\n",
      "coffee 0.37733209275119045\n",
      "salat 0.24608821506876744\n",
      "cereals 0.3361293378553069\n",
      "juice 0.2801835288527378\n",
      "sandwich 0.26667786589043047\n",
      "friedegg 0.1799595562756373\n",
      "pancake 0.13273859870644458\n",
      "tea 0.35241899497936563\n",
      "Final IoU: 0.2705893576265874\n",
      "MoF\n",
      "scrambledegg 0.4992683018693195\n",
      "milk 0.5550578925518935\n",
      "coffee 0.5891070898904247\n",
      "salat 0.5632988249862979\n",
      "cereals 0.5560507876608083\n",
      "juice 0.5685658568846984\n",
      "sandwich 0.5094569262340629\n",
      "friedegg 0.5021208518166973\n",
      "pancake 0.5049685026732921\n",
      "tea 0.5592904515634575\n",
      "Final MoF: 0.5407185486130952\n"
     ]
    }
   ],
   "source": [
    "segment_bf = SegmentBreakfast(ClusterFactory.FINCH.value, distance='euclidean')\n",
    "segment_bf.with_slowfast_features(pe=False, frames_len=48, red_dim=False)"
   ]
  },
  {
   "cell_type": "markdown",
   "id": "f5eac4ed-75b4-4142-b66e-695efb3b6837",
   "metadata": {},
   "source": [
    "#### FINCH - 64"
   ]
  },
  {
   "cell_type": "code",
   "execution_count": 213,
   "id": "f947be10-79cb-4fda-9b59-773db5ded123",
   "metadata": {},
   "outputs": [
    {
     "name": "stdout",
     "output_type": "stream",
     "text": [
      "Finished scrambledegg\n",
      "Finished milk\n",
      "Finished coffee\n",
      "Finished salat\n",
      "Finished cereals\n",
      "Finished juice\n",
      "Finished sandwich\n",
      "Finished friedegg\n",
      "Finished pancake\n",
      "Finished tea\n",
      "IoU\n",
      "scrambledegg 0.3073762140779771\n",
      "milk 0.35344217217476426\n",
      "coffee 0.42006496607800703\n",
      "salat 0.28938197705911967\n",
      "cereals 0.3359137579952796\n",
      "juice 0.3148458901111698\n",
      "sandwich 0.34287034143450434\n",
      "friedegg 0.30477764168381155\n",
      "pancake 0.258785896856805\n",
      "tea 0.34754331978832326\n",
      "Final IoU: 0.32750021772597615\n",
      "MoF\n",
      "scrambledegg 0.5505554974238108\n",
      "milk 0.597161971770595\n",
      "coffee 0.667152073191856\n",
      "salat 0.4746047112799606\n",
      "cereals 0.6137497633443735\n",
      "juice 0.5724254928370236\n",
      "sandwich 0.5917231748623143\n",
      "friedegg 0.5304157967102517\n",
      "pancake 0.5065976908649449\n",
      "tea 0.6067806564318043\n",
      "Final MoF: 0.5711166828716935\n"
     ]
    }
   ],
   "source": [
    "segment_bf = SegmentBreakfast(ClusterFactory.FINCH.value, distance='euclidean')\n",
    "segment_bf.with_slowfast_features(pe=True, frames_len=64, red_dim=False)"
   ]
  },
  {
   "cell_type": "code",
   "execution_count": 212,
   "id": "f6df310d-4764-4152-b044-c983f05d4dfd",
   "metadata": {},
   "outputs": [
    {
     "name": "stdout",
     "output_type": "stream",
     "text": [
      "Finished scrambledegg\n",
      "Finished milk\n",
      "Finished coffee\n",
      "Finished salat\n",
      "Finished cereals\n",
      "Finished juice\n",
      "Finished sandwich\n",
      "Finished friedegg\n",
      "Finished pancake\n",
      "Finished tea\n",
      "IoU\n",
      "scrambledegg 0.17453424910472193\n",
      "milk 0.3172769960618628\n",
      "coffee 0.360842268112025\n",
      "salat 0.23870055176777094\n",
      "cereals 0.28842746430139465\n",
      "juice 0.28390923807093177\n",
      "sandwich 0.268484920660265\n",
      "friedegg 0.1830144416342736\n",
      "pancake 0.13782477391809822\n",
      "tea 0.3181811771009594\n",
      "Final IoU: 0.2571196080732303\n",
      "MoF\n",
      "scrambledegg 0.4887848337530459\n",
      "milk 0.5503625397965588\n",
      "coffee 0.5929952328237796\n",
      "salat 0.5544017726962185\n",
      "cereals 0.542025542584025\n",
      "juice 0.5556718787593127\n",
      "sandwich 0.5056382452350505\n",
      "friedegg 0.49894827750382176\n",
      "pancake 0.5152297448555769\n",
      "tea 0.5615716932322351\n",
      "Final MoF: 0.5365629761239625\n"
     ]
    }
   ],
   "source": [
    "segment_bf = SegmentBreakfast(ClusterFactory.FINCH.value, distance='euclidean')\n",
    "segment_bf.with_slowfast_features(pe=False, frames_len=64, red_dim=False)"
   ]
  },
  {
   "cell_type": "markdown",
   "id": "623a24c8-f4e5-43f4-9d93-16dcb67f18ef",
   "metadata": {},
   "source": [
    "#### FINCH - 72"
   ]
  },
  {
   "cell_type": "code",
   "execution_count": 305,
   "id": "0e2addcb-ac3b-4804-bdca-c4a8050b1f3b",
   "metadata": {},
   "outputs": [
    {
     "name": "stdout",
     "output_type": "stream",
     "text": [
      "Finished scrambledegg\n",
      "Finished milk\n",
      "Finished coffee\n",
      "Finished salat\n",
      "Finished cereals\n",
      "Finished juice\n",
      "Finished sandwich\n",
      "Finished friedegg\n",
      "Finished pancake\n",
      "Finished tea\n",
      "IoU\n",
      "scrambledegg 0.29306082456228405\n",
      "milk 0.3363719164162829\n",
      "coffee 0.41880782996157884\n",
      "salat 0.2897706251022738\n",
      "cereals 0.320938935124458\n",
      "juice 0.31424084437146493\n",
      "sandwich 0.34039153613467726\n",
      "friedegg 0.3054963029437319\n",
      "pancake 0.2601352496714273\n",
      "tea 0.3379281167135741\n",
      "Final IoU: 0.32171421810017525\n",
      "MoF\n",
      "scrambledegg 0.5393306071176451\n",
      "milk 0.589828235899013\n",
      "coffee 0.6734314141417587\n",
      "salat 0.49938468292913357\n",
      "cereals 0.6063654100936418\n",
      "juice 0.5660454856481432\n",
      "sandwich 0.6014568822649272\n",
      "friedegg 0.5488463279199615\n",
      "pancake 0.5142773806165052\n",
      "tea 0.5987459152206044\n",
      "Final MoF: 0.5737712341851333\n"
     ]
    }
   ],
   "source": [
    "segment_bf = SegmentBreakfast(ClusterFactory.FINCH.value, distance='euclidean')\n",
    "segment_bf.with_slowfast_features(pe=True, frames_len=72, red_dim=False)"
   ]
  },
  {
   "cell_type": "code",
   "execution_count": 306,
   "id": "dfac5fab-2baa-47ce-97bf-839ba34c7af2",
   "metadata": {},
   "outputs": [
    {
     "name": "stdout",
     "output_type": "stream",
     "text": [
      "Finished scrambledegg\n",
      "Finished milk\n",
      "Finished coffee\n",
      "Finished salat\n",
      "Finished cereals\n",
      "Finished juice\n",
      "Finished sandwich\n",
      "Finished friedegg\n",
      "Finished pancake\n",
      "Finished tea\n",
      "IoU\n",
      "scrambledegg 0.1773738890977334\n",
      "milk 0.3149359969467909\n",
      "coffee 0.3525413156025602\n",
      "salat 0.24027617044397442\n",
      "cereals 0.25986596513209137\n",
      "juice 0.2776182968796403\n",
      "sandwich 0.2785218132034357\n",
      "friedegg 0.1808178675266909\n",
      "pancake 0.12819397429773408\n",
      "tea 0.31484438713976387\n",
      "Final IoU: 0.2524989676270415\n",
      "MoF\n",
      "scrambledegg 0.5015556331416282\n",
      "milk 0.5505793111919657\n",
      "coffee 0.6087567043716879\n",
      "salat 0.5550259917330548\n",
      "cereals 0.5289440503976364\n",
      "juice 0.5506186107450389\n",
      "sandwich 0.5247052728808901\n",
      "friedegg 0.4918504945393898\n",
      "pancake 0.5161551836093423\n",
      "tea 0.564401456828299\n",
      "Final MoF: 0.5392592709438933\n"
     ]
    }
   ],
   "source": [
    "segment_bf = SegmentBreakfast(ClusterFactory.FINCH.value, distance='euclidean')\n",
    "segment_bf.with_slowfast_features(pe=False, frames_len=72, red_dim=False)"
   ]
  },
  {
   "cell_type": "markdown",
   "id": "7897d376-9732-4296-991e-9ea30fc01b06",
   "metadata": {},
   "source": [
    "#### FINCH - 80"
   ]
  },
  {
   "cell_type": "code",
   "execution_count": 6,
   "id": "10dfbd82-f861-4e59-a742-184fa7a13db7",
   "metadata": {},
   "outputs": [
    {
     "name": "stdout",
     "output_type": "stream",
     "text": [
      "Finished scrambledegg\n",
      "Finished milk\n",
      "Finished coffee\n",
      "Finished salat\n",
      "Finished cereals\n",
      "Finished juice\n",
      "Finished sandwich\n",
      "Finished friedegg\n",
      "Finished pancake\n",
      "Finished tea\n",
      "IoU\n",
      "scrambledegg 0.26804789829450576\n",
      "milk 0.32702367747319855\n",
      "coffee 0.38571560846214925\n",
      "salat 0.2790849323255816\n",
      "cereals 0.31569891575109293\n",
      "juice 0.3020432480660327\n",
      "sandwich 0.32833489667338644\n",
      "friedegg 0.30179761132690675\n",
      "pancake 0.2588648790345288\n",
      "tea 0.33692620588157135\n",
      "Final IoU: 0.3103537873288954\n",
      "MoF\n",
      "scrambledegg 0.5402375463194679\n",
      "milk 0.5867182100341428\n",
      "coffee 0.6586642273187159\n",
      "salat 0.49649328170104023\n",
      "cereals 0.6060241377921064\n",
      "juice 0.581902611249163\n",
      "sandwich 0.5940168265763464\n",
      "friedegg 0.5574091591311756\n",
      "pancake 0.5166388115275651\n",
      "tea 0.598310978649944\n",
      "Final MoF: 0.5736415790299667\n"
     ]
    }
   ],
   "source": [
    "segment_bf = SegmentBreakfast(ClusterFactory.FINCH.value, distance='euclidean')\n",
    "segment_bf.with_slowfast_features(pe=True, frames_len=80, red_dim=False)"
   ]
  },
  {
   "cell_type": "code",
   "execution_count": 7,
   "id": "207b001c-9777-4ac9-a799-3cf07a82e96a",
   "metadata": {},
   "outputs": [
    {
     "name": "stdout",
     "output_type": "stream",
     "text": [
      "Finished scrambledegg\n",
      "Finished milk\n",
      "Finished coffee\n",
      "Finished salat\n",
      "Finished cereals\n",
      "Finished juice\n",
      "Finished sandwich\n",
      "Finished friedegg\n",
      "Finished pancake\n",
      "Finished tea\n",
      "IoU\n",
      "scrambledegg 0.18127788250436455\n",
      "milk 0.29821333435587866\n",
      "coffee 0.30173597016111725\n",
      "salat 0.23575857948307857\n",
      "cereals 0.25557765661100224\n",
      "juice 0.2507109450801254\n",
      "sandwich 0.2647575362701726\n",
      "friedegg 0.18651445676093845\n",
      "pancake 0.1344460178682411\n",
      "tea 0.28609678194939486\n",
      "Final IoU: 0.23950891610443134\n",
      "MoF\n",
      "scrambledegg 0.49700412903539093\n",
      "milk 0.548367770465921\n",
      "coffee 0.5751392833252488\n",
      "salat 0.5416864501391122\n",
      "cereals 0.5296813832625672\n",
      "juice 0.5331568267503928\n",
      "sandwich 0.5124752151124871\n",
      "friedegg 0.48880489332379673\n",
      "pancake 0.5127855107403552\n",
      "tea 0.5540969411611034\n",
      "Final MoF: 0.5293198403316375\n"
     ]
    }
   ],
   "source": [
    "segment_bf = SegmentBreakfast(ClusterFactory.FINCH.value, distance='euclidean')\n",
    "segment_bf.with_slowfast_features(pe=False, frames_len=80, red_dim=False)"
   ]
  },
  {
   "cell_type": "markdown",
   "id": "0f823ff8-a76d-430c-9d98-f52cb010e27f",
   "metadata": {},
   "source": [
    "#### FINCH - 128"
   ]
  },
  {
   "cell_type": "code",
   "execution_count": 211,
   "id": "950988d5-4521-4594-9a2d-f7eb76174b1c",
   "metadata": {},
   "outputs": [
    {
     "name": "stdout",
     "output_type": "stream",
     "text": [
      "Finished scrambledegg\n",
      "Finished milk\n",
      "Finished coffee\n",
      "Finished salat\n",
      "Finished cereals\n",
      "Finished juice\n",
      "Finished sandwich\n",
      "Finished friedegg\n",
      "Finished pancake\n",
      "Finished tea\n",
      "IoU\n",
      "scrambledegg 0.22606408734446928\n",
      "milk 0.2523619104622577\n",
      "coffee 0.29591706162990716\n",
      "salat 0.25741306006115305\n",
      "cereals 0.24708417751370623\n",
      "juice 0.2424779722890587\n",
      "sandwich 0.2818749633357193\n",
      "friedegg 0.26425139999398317\n",
      "pancake 0.21637618727343136\n",
      "tea 0.23815893672749539\n",
      "Final IoU: 0.2521979756631182\n",
      "MoF\n",
      "scrambledegg 0.5471715268682359\n",
      "milk 0.5463959617863663\n",
      "coffee 0.5975857366086481\n",
      "salat 0.5112298277768745\n",
      "cereals 0.5605675356842904\n",
      "juice 0.5787351804843335\n",
      "sandwich 0.5853529276585433\n",
      "friedegg 0.5745286723556696\n",
      "pancake 0.5409101129613765\n",
      "tea 0.54367603699659\n",
      "Final MoF: 0.5586153519180928\n"
     ]
    }
   ],
   "source": [
    "segment_bf = SegmentBreakfast(ClusterFactory.FINCH.value, distance='euclidean')\n",
    "segment_bf.with_slowfast_features(pe=True, frames_len=128, red_dim=False)"
   ]
  },
  {
   "cell_type": "code",
   "execution_count": 214,
   "id": "fa687e6f-a744-4a32-8604-7d05b99a15b7",
   "metadata": {},
   "outputs": [
    {
     "name": "stdout",
     "output_type": "stream",
     "text": [
      "Finished scrambledegg\n",
      "Finished milk\n",
      "Finished coffee\n",
      "Finished salat\n",
      "Finished cereals\n",
      "Finished juice\n",
      "Finished sandwich\n",
      "Finished friedegg\n",
      "Finished pancake\n",
      "Finished tea\n",
      "IoU\n",
      "scrambledegg 0.17887603192560256\n",
      "milk 0.2150544722588874\n",
      "coffee 0.24744881317339598\n",
      "salat 0.23972645073605764\n",
      "cereals 0.1841385201899472\n",
      "juice 0.21193374883483654\n",
      "sandwich 0.23530711711910435\n",
      "friedegg 0.18910238204687424\n",
      "pancake 0.14547659180345193\n",
      "tea 0.19494859068711556\n",
      "Final IoU: 0.20420127187752737\n",
      "MoF\n",
      "scrambledegg 0.4889004398833366\n",
      "milk 0.49803368832713585\n",
      "coffee 0.5473367079576515\n",
      "salat 0.5442198069516948\n",
      "cereals 0.48455561102041994\n",
      "juice 0.5396352909613192\n",
      "sandwich 0.511793813275157\n",
      "friedegg 0.48459495689754634\n",
      "pancake 0.5153881969231698\n",
      "tea 0.5062317277310492\n",
      "Final MoF: 0.5120690239928481\n"
     ]
    }
   ],
   "source": [
    "segment_bf = SegmentBreakfast(ClusterFactory.FINCH.value, distance='euclidean')\n",
    "segment_bf.with_slowfast_features(pe=False, frames_len=128, red_dim=False)"
   ]
  },
  {
   "cell_type": "code",
   "execution_count": 7,
   "id": "401bc2ca-1057-4c18-8924-784b7fc3ed52",
   "metadata": {},
   "outputs": [
    {
     "name": "stdout",
     "output_type": "stream",
     "text": [
      "Finished scrambledegg\n",
      "Finished milk\n",
      "Finished coffee\n",
      "Finished salat\n",
      "Finished cereals\n",
      "Finished juice\n",
      "Finished sandwich\n",
      "Finished friedegg\n",
      "Finished pancake\n",
      "Finished tea\n",
      "IoU\n",
      "scrambledegg 0.1805697110305685\n",
      "milk 0.3343652597413419\n",
      "coffee 0.40756943598423057\n",
      "salat 0.24000702034273327\n",
      "cereals 0.3501542437927821\n",
      "juice 0.25387087305363615\n",
      "sandwich 0.2749980200569426\n",
      "friedegg 0.21522406378411224\n",
      "pancake 0.14595641356063274\n",
      "tea 0.3830583904621289\n",
      "Final IoU: 0.27857734318091093\n",
      "MoF\n",
      "scrambledegg 0.5244915774558692\n",
      "milk 0.5486012309946191\n",
      "coffee 0.5721713066842004\n",
      "salat 0.5768389900121837\n",
      "cereals 0.55291709892924\n",
      "juice 0.5589664369133885\n",
      "sandwich 0.5473585237226694\n",
      "friedegg 0.5601431692847241\n",
      "pancake 0.5458825125145493\n",
      "tea 0.5653054150311292\n",
      "Final MoF: 0.5552676261542573\n"
     ]
    }
   ],
   "source": [
    "segment_bf = SegmentBreakfast(ClusterFactory.FINCH.value, distance='euclidean')\n",
    "segment_bf.with_slowfast_features(pe=True, red_dim=True)"
   ]
  },
  {
   "cell_type": "code",
   "execution_count": 8,
   "id": "c799472d-3851-4519-9c3f-dbfef9b4862b",
   "metadata": {},
   "outputs": [
    {
     "name": "stdout",
     "output_type": "stream",
     "text": [
      "Finished scrambledegg\n",
      "Finished milk\n",
      "Finished coffee\n",
      "Finished salat\n",
      "Finished cereals\n",
      "Finished juice\n",
      "Finished sandwich\n",
      "Finished friedegg\n",
      "Finished pancake\n",
      "Finished tea\n",
      "IoU\n",
      "scrambledegg 0.17910730440437259\n",
      "milk 0.34681125806534835\n",
      "coffee 0.39999191205664386\n",
      "salat 0.24918041308292846\n",
      "cereals 0.34299084404784513\n",
      "juice 0.2669801170377771\n",
      "sandwich 0.2690645226206919\n",
      "friedegg 0.19053535979465974\n",
      "pancake 0.12971173872166816\n",
      "tea 0.3809278474651084\n",
      "Final IoU: 0.2755301317297044\n",
      "MoF\n",
      "scrambledegg 0.4954569915222257\n",
      "milk 0.5566612562028692\n",
      "coffee 0.5553917082762599\n",
      "salat 0.5473122808882099\n",
      "cereals 0.5489083284127471\n",
      "juice 0.5801050729607882\n",
      "sandwich 0.5211971755690568\n",
      "friedegg 0.50300176255172\n",
      "pancake 0.5171765229510886\n",
      "tea 0.5735655083762751\n",
      "Final MoF: 0.539877660771124\n"
     ]
    }
   ],
   "source": [
    "segment_bf = SegmentBreakfast(ClusterFactory.FINCH.value, distance='euclidean')\n",
    "segment_bf.with_slowfast_features(pe=False, red_dim=True)"
   ]
  },
  {
   "cell_type": "markdown",
   "id": "a91becc1-ca3d-4d58-b619-83017ddc6af7",
   "metadata": {},
   "source": [
    "#### KMeans"
   ]
  },
  {
   "cell_type": "code",
   "execution_count": 7,
   "id": "4fef74bc-afa6-4733-8b78-a46900748411",
   "metadata": {
    "scrolled": true,
    "tags": []
   },
   "outputs": [
    {
     "name": "stdout",
     "output_type": "stream",
     "text": [
      "Finished scrambledegg\n",
      "Finished milk\n",
      "Finished coffee\n",
      "Finished salat\n",
      "Finished cereals\n",
      "Finished juice\n",
      "Finished sandwich\n",
      "Finished friedegg\n",
      "Finished pancake\n",
      "Finished tea\n",
      "IoU\n",
      "scrambledegg 0.4031405023503865\n",
      "milk 0.47926894864002023\n",
      "coffee 0.49529531756032574\n",
      "salat 0.30909745236720204\n",
      "cereals 0.4848183060071934\n",
      "juice 0.45806629466850357\n",
      "sandwich 0.41694065719327383\n",
      "friedegg 0.3996626139718952\n",
      "pancake 0.39265838895090366\n",
      "tea 0.5444500396248037\n",
      "Final IoU: 0.4383398521334508\n",
      "MoF\n",
      "scrambledegg 0.29162553353380877\n",
      "milk 0.47722752016189524\n",
      "coffee 0.5440292746477214\n",
      "salat 0.16849297250209042\n",
      "cereals 0.527104532560911\n",
      "juice 0.36664302417164557\n",
      "sandwich 0.37168107562806646\n",
      "friedegg 0.23314069400906215\n",
      "pancake 0.2047648073763337\n",
      "tea 0.5542872744751024\n",
      "Final MoF: 0.37389967090666376\n"
     ]
    }
   ],
   "source": [
    "segment_bf = SegmentBreakfast(ClusterFactory.KMEANS.value, n=2)\n",
    "segment_bf.with_slowfast_features()"
   ]
  },
  {
   "cell_type": "code",
   "execution_count": 8,
   "id": "93981604-4357-4170-8d94-1496f8c1fc70",
   "metadata": {
    "scrolled": true,
    "tags": []
   },
   "outputs": [
    {
     "name": "stdout",
     "output_type": "stream",
     "text": [
      "Finished scrambledegg\n",
      "Finished milk\n",
      "Finished coffee\n",
      "Finished salat\n",
      "Finished cereals\n",
      "Finished juice\n",
      "Finished sandwich\n",
      "Finished friedegg\n",
      "Finished pancake\n",
      "Finished tea\n",
      "IoU\n",
      "scrambledegg 0.24679060606610095\n",
      "milk 0.4399734233905062\n",
      "coffee 0.4402146940239242\n",
      "salat 0.31909811196789123\n",
      "cereals 0.3835579756738492\n",
      "juice 0.4035224459226943\n",
      "sandwich 0.3528603469293504\n",
      "friedegg 0.2314953544660336\n",
      "pancake 0.18650186721636308\n",
      "tea 0.4385576619381542\n",
      "Final IoU: 0.3442572487594867\n",
      "MoF\n",
      "scrambledegg 0.5609875535545099\n",
      "milk 0.5687127309120219\n",
      "coffee 0.5634876716825576\n",
      "salat 0.5603550862927439\n",
      "cereals 0.5318377012041063\n",
      "juice 0.6391334937169134\n",
      "sandwich 0.5428628741205948\n",
      "friedegg 0.5009351399052628\n",
      "pancake 0.5336146762143683\n",
      "tea 0.5741644175282903\n",
      "Final MoF: 0.5576091345131369\n"
     ]
    }
   ],
   "source": [
    "segment_bf = SegmentBreakfast(ClusterFactory.KMEANS.value, n=2)\n",
    "segment_bf.with_slowfast_features(pe=False)"
   ]
  },
  {
   "cell_type": "markdown",
   "id": "4cf929df-5eee-4a2f-8fe0-4e295a42dfc7",
   "metadata": {},
   "source": [
    "### Visualizing embeddings"
   ]
  },
  {
   "cell_type": "code",
   "execution_count": 176,
   "id": "c6bee1b0-5e4f-4603-9f9f-4ac715567bec",
   "metadata": {},
   "outputs": [],
   "source": [
    "import matplotlib.colors as mcolors\n",
    "import matplotlib.pyplot as plt\n",
    "from mpl_toolkits.mplot3d import Axes3D\n",
    "from random import randint\n",
    "from sklearn.decomposition import PCA\n",
    "from sklearn.manifold import TSNE\n",
    "\n",
    "def reduce(features, n_components, algo):\n",
    "    x_red = algo(n_components=n_components).fit_transform(features)\n",
    "    return x_red    \n",
    "\n",
    "def get_colors(pred):\n",
    "    labels = list(np.unique(pred))\n",
    "    colors = [hex for name, hex in mcolors.TABLEAU_COLORS.items()]\n",
    "    return {label: colors[i] for i, label in enumerate(labels)}\n",
    "\n",
    "def get_feat_and_preds(gt_path, cluster, extractor, window_len, pe):\n",
    "    if cluster == 'KMEANS':\n",
    "        seg_breakfast = SegmentBreakfast(cluster, n=2)\n",
    "    else:\n",
    "        seg_breakfast = SegmentBreakfast(cluster, distance='euclidean')\n",
    "    video = seg_breakfast.get_video_from_gtpath(gt_path, input_len=window_len)\n",
    "    features = video.features(with_pe=pe, reduce_dim=False)\n",
    "    \n",
    "    if extractor == 'I3D':\n",
    "        vd_path = seg_breakfast.breakfast.gtpath_to_vdpath(gt_path)\n",
    "        features = seg_breakfast.get_i3d_features(vd_path, frames_window_len=window_len, with_pe=pe)\n",
    "    else:\n",
    "        features = video.features(with_pe=pe)\n",
    "\n",
    "    pred = seg_breakfast.get_actionpred_from_gtpath(gt_path, extractor,\n",
    "                                                    window_len, pe)\n",
    "    \n",
    "    print(f'Number of predicted labels {len(np.unique(pred))}')\n",
    "    gt = get_gt_mapped_to_segments(video, gt_path, window_len, seg_breakfast)\n",
    "    return features, pred, gt\n",
    "\n",
    "def get_gt_mapped_to_segments(video, gt_path, window_len, seg_breakfast):\n",
    "    gt_info = seg_breakfast.breakfast.get_gt_info(gt_path)\n",
    "    gt = seg_breakfast.breakfast.gt_to_array(gt_info, len(video))\n",
    "    print(f'Number of ground truth labels {len(np.unique(gt))}')\n",
    "    mapped = []\n",
    "    for i in range(0, len(video), window_len):\n",
    "        seg = gt[i: i + window_len - 1]\n",
    "        labels, counts = np.unique(seg, return_counts=True)\n",
    "        index = np.argmax(counts)\n",
    "        label_mode = labels[index]\n",
    "        mapped.append(label_mode)\n",
    "        \n",
    "    return np.array(mapped)\n",
    "        \n",
    "def plot_segmentation(features, predictions, algo=PCA, n_comp=3):\n",
    "    features_red = reduce(features, n_components=n_comp, algo=algo)\n",
    "    fig = plt.figure(figsize=(16, 9))\n",
    "    ax = fig.add_subplot(111, projection='3d')\n",
    "    colors = get_colors(predictions)\n",
    "\n",
    "    for i, c in enumerate(features_red):\n",
    "        label = predictions[i]\n",
    "        ax.scatter(c[0], c[1], c[2], c=colors[label])\n",
    "\n",
    "    plt.show()"
   ]
  },
  {
   "cell_type": "code",
   "execution_count": 177,
   "id": "45577102-77d2-4dba-af78-65dcd978ee6e",
   "metadata": {},
   "outputs": [
    {
     "name": "stdout",
     "output_type": "stream",
     "text": [
      "Number of predicted labels 3\n",
      "Number of ground truth labels 3\n",
      "(8, 2304) (8,) (8,)\n"
     ]
    },
    {
     "data": {
      "image/png": "[encoded data removed]",
      "text/plain": [
       "<Figure size 1152x648 with 1 Axes>"
      ]
     },
     "metadata": {
      "needs_background": "light"
     },
     "output_type": "display_data"
    },
    {
     "data": {
      "image/png": "[encoded data removed]",
      "text/plain": [
       "<Figure size 1152x648 with 1 Axes>"
      ]
     },
     "metadata": {
      "needs_background": "light"
     },
     "output_type": "display_data"
    }
   ],
   "source": [
    "features, preds, gt = get_feat_and_preds(path, ClusterFactory.FINCH.value,\n",
    "                                         ExtractorFactory.SLOWFAST.value, 64, False)\n",
    "print(features.shape, preds.shape, gt.shape)\n",
    "plot_segmentation(features, preds)\n",
    "plot_segmentation(features, gt)"
   ]
  },
  {
   "cell_type": "code",
   "execution_count": 63,
   "id": "8089fcdb-9bae-4242-bf09-46d9f73fcc68",
   "metadata": {},
   "outputs": [
    {
     "name": "stdout",
     "output_type": "stream",
     "text": [
      "Number of predicted labels 2\n",
      "Number of ground truth labels 4\n"
     ]
    },
    {
     "data": {
      "image/png": "[encoded data removed]",
      "text/plain": [
       "<Figure size 1152x648 with 1 Axes>"
      ]
     },
     "metadata": {
      "needs_background": "light"
     },
     "output_type": "display_data"
    }
   ],
   "source": [
    "features, preds, gt = get_feat_and_preds(path, ClusterFactory.FINCH.value,\n",
    "                                     ExtractorFactory.SLOWFAST.value, 32, True)\n",
    "# plot_segmentation(features, preds)\n",
    "plot_segmentation(features, gt)"
   ]
  },
  {
   "cell_type": "code",
   "execution_count": 62,
   "id": "bdb79626-82fb-4b1d-941a-cbbb0ddcee1a",
   "metadata": {},
   "outputs": [
    {
     "name": "stdout",
     "output_type": "stream",
     "text": [
      "Number of predicted labels 5\n",
      "Number of ground truth labels 4\n"
     ]
    },
    {
     "data": {
      "image/png": "[encoded data removed]",
      "text/plain": [
       "<Figure size 1152x648 with 1 Axes>"
      ]
     },
     "metadata": {
      "needs_background": "light"
     },
     "output_type": "display_data"
    }
   ],
   "source": [
    "features, preds, gt = get_feat_and_preds(path, ClusterFactory.FINCH.value,\n",
    "                                     ExtractorFactory.SLOWFAST.value, 32, False)\n",
    "# plot_segmentation(features, preds)`\n",
    "plot_segmentation(features, gt)"
   ]
  },
  {
   "cell_type": "code",
   "execution_count": 173,
   "id": "cea9e93a-24d0-4953-823d-416121f33fd0",
   "metadata": {},
   "outputs": [
    {
     "data": {
      "image/png": "[encoded data removed]",
      "text/plain": [
       "<Figure size 1152x648 with 1 Axes>"
      ]
     },
     "metadata": {
      "needs_background": "light"
     },
     "output_type": "display_data"
    }
   ],
   "source": [
    "features, preds = get_feat_and_preds(juice_gt_path, ClusterFactory.FINCH.value,\n",
    "                                     ExtractorFactory.I3D.value, 24, True)\n",
    "plot_segmentation(features, preds)"
   ]
  },
  {
   "cell_type": "code",
   "execution_count": 174,
   "id": "1221f906-153f-4101-89eb-ee9bd9753477",
   "metadata": {},
   "outputs": [
    {
     "data": {
      "image/png": "[encoded data removed]",
      "text/plain": [
       "<Figure size 1152x648 with 1 Axes>"
      ]
     },
     "metadata": {
      "needs_background": "light"
     },
     "output_type": "display_data"
    }
   ],
   "source": [
    "features, preds = get_feat_and_preds(juice_gt_path, ClusterFactory.FINCH.value,\n",
    "                                     ExtractorFactory.I3D.value, 24, False)\n",
    "plot_segmentation(features, preds)"
   ]
  }
 ],
 "metadata": {
  "kernelspec": {
   "display_name": "as_env",
   "language": "python",
   "name": "as_env"
  },
  "language_info": {
   "codemirror_mode": {
    "name": "ipython",
    "version": 3
   },
   "file_extension": ".py",
   "mimetype": "text/x-python",
   "name": "python",
   "nbconvert_exporter": "python",
   "pygments_lexer": "ipython3",
   "version": "3.7.10"
  }
 },
 "nbformat": 4,
 "nbformat_minor": 5
}
