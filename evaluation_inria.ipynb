{
 "cells": [
  {
   "cell_type": "code",
   "execution_count": 7,
   "id": "threaded-gibraltar",
   "metadata": {},
   "outputs": [],
   "source": [
    "%config Completer.use_jedi = False\n",
    "\n",
    "import pandas as pd\n",
    "import os\n",
    "import subprocess\n",
    "from video import Video\n",
    "import random\n",
    "from extractors import ExtractorFactory\n",
    "from clusters import ClusterFactory\n",
    "from mxnet import nd, gpu\n",
    "import io\n",
    "import cv2\n",
    "import finch\n",
    "from pathlib import Path\n",
    "from sklearn.metrics.cluster import contingency_matrix\n",
    "from sklearn.metrics import confusion_matrix\n",
    "from sklearn.preprocessing import LabelEncoder\n",
    "import numpy as np\n",
    "import math\n",
    "from pprint import pprint\n",
    "from accuracy import Accuracy\n",
    "from finch import FINCH\n",
    "from npy import Npy"
   ]
  },
  {
   "cell_type": "markdown",
   "id": "c0bd39f3-7c03-4471-8760-492f92ef0669",
   "metadata": {},
   "source": [
    "### INRIA Utils"
   ]
  },
  {
   "cell_type": "code",
   "execution_count": 8,
   "id": "b43a97bc-bf9a-4008-973c-0db018ba027d",
   "metadata": {
    "scrolled": true,
    "tags": []
   },
   "outputs": [
    {
     "ename": "NameError",
     "evalue": "name 'paths' is not defined",
     "output_type": "error",
     "traceback": [
      "\u001b[0;31m---------------------------------------------------------------------------\u001b[0m",
      "\u001b[0;31mNameError\u001b[0m                                 Traceback (most recent call last)",
      "\u001b[0;32m<ipython-input-8-48dbbdf5041e>\u001b[0m in \u001b[0;36m<module>\u001b[0;34m\u001b[0m\n\u001b[1;32m    113\u001b[0m     \u001b[0;32mreturn\u001b[0m \u001b[0mdata\u001b[0m \u001b[0;34m+\u001b[0m \u001b[0mpe\u001b[0m\u001b[0;34m\u001b[0m\u001b[0;34m\u001b[0m\u001b[0m\n\u001b[1;32m    114\u001b[0m \u001b[0;34m\u001b[0m\u001b[0m\n\u001b[0;32m--> 115\u001b[0;31m \u001b[0mgt\u001b[0m\u001b[0;34m,\u001b[0m \u001b[0mbg_segs\u001b[0m \u001b[0;34m=\u001b[0m \u001b[0mgt_to_array\u001b[0m\u001b[0;34m(\u001b[0m\u001b[0mpaths\u001b[0m\u001b[0;34m[\u001b[0m\u001b[0;36m0\u001b[0m\u001b[0;34m]\u001b[0m\u001b[0;34m)\u001b[0m\u001b[0;34m\u001b[0m\u001b[0;34m\u001b[0m\u001b[0m\n\u001b[0m",
      "\u001b[0;31mNameError\u001b[0m: name 'paths' is not defined"
     ]
    }
   ],
   "source": [
    "import xmltodict\n",
    "from pprint import pprint \n",
    "\n",
    "\n",
    "videos_num_frames = {}\n",
    "for tp in ['changing_tire', 'coffee', 'jump_car', 'repot', 'cpr']:\n",
    "    with open(f'./data_new/data_release/{tp}.txt', 'r') as f:\n",
    "        for ele in f:\n",
    "            line = ele.split('\\n')[0]\n",
    "            split_line = line.split(\"\\t\")\n",
    "            videos_num_frames[split_line[1]] = int(split_line[-2])\n",
    "\n",
    "def map_seglabels_to_framelabels(labels, video_len, seg_len=32):\n",
    "    \"\"\" Map segments(32 frames pieces of a video) labels to a framewise label \"\"\"\n",
    "    frames_labels = []\n",
    "\n",
    "    for seg_label in labels:\n",
    "        frames_labels = frames_labels + [seg_label] * seg_len\n",
    "    return np.array(frames_labels[:video_len])\n",
    "\n",
    "def read_gt(path):\n",
    "    split_path = path.split('/')\n",
    "    base_path = split_path[:3]\n",
    "    fname = split_path[-1].split('.')[0]\n",
    "    \n",
    "    gt_fname = fname + '.xgtf'\n",
    "    gt_path = os.path.join(*base_path, 'annot', gt_fname)\n",
    "    \n",
    "    with open(gt_path) as f:\n",
    "        doc = xmltodict.parse(f.read())\n",
    "    annot = doc['viper']['data']['sourcefile']\n",
    "    \n",
    "    try:\n",
    "#         int(annot['file']['attribute'][1]['data:dvalue']['@value'])\n",
    "        return annot['object'], videos_num_frames[fname]\n",
    "    except Exception as e:\n",
    "        pprint(annot)\n",
    "        raise e\n",
    "\n",
    "def gt_to_array(path):\n",
    "    annot, num_frames = read_gt(path)\n",
    "    frames_labels = []\n",
    "    last_end = 0\n",
    "    bg_segs = []\n",
    "    gt_segs = []\n",
    "    \n",
    "    label_set = set([gt_set['@name'] for i, gt_set in enumerate(annot)])\n",
    "    labels = {a: i\n",
    "              for i, a in enumerate(label_set)}\n",
    "\n",
    "    for i, gt_seg in enumerate(annot):\n",
    "        spans = gt_seg['@framespan'].split(' ')\n",
    "        if len(spans) == 1:\n",
    "            start, end = gt_seg['@framespan'].split(':')\n",
    "            gt_segs.append({'@framespan': (int(start), int(end)), 'label': labels[gt_seg['@name']]})\n",
    "        else:\n",
    "            for span in spans:\n",
    "                start, end = span.split(':')\n",
    "                gt_segs.append({'@framespan': (int(start), int(end)), 'label': labels[gt_seg['@name']]})\n",
    "    \n",
    "    gt_segs = sorted(gt_segs, key=lambda k: k['@framespan'][0])\n",
    "\n",
    "    for i, gt_seg in enumerate(gt_segs):\n",
    "        start, end = gt_seg['@framespan']   \n",
    "        i = gt_seg['label']\n",
    "        if last_end != start:\n",
    "            if last_end == 0:\n",
    "                bg_segs.append((last_end, start - 1))\n",
    "                span = start - last_end\n",
    "            else:\n",
    "                bg_segs.append((last_end + 1, start - 1))\n",
    "                span = start - last_end - 1\n",
    "            frames_labels = frames_labels + [-1] * span\n",
    "            \n",
    "        frames_labels = frames_labels + [i] * (end - start + 1)\n",
    "        last_end = end\n",
    "    \n",
    "    if len(frames_labels) != num_frames:\n",
    "        span = num_frames - last_end\n",
    "        frames_labels = frames_labels + [-1] * span\n",
    "    \n",
    "    frames_labels = frames_labels[:num_frames]\n",
    "    \n",
    "    if len(frames_labels) != num_frames:\n",
    "        print(len(frames_labels))\n",
    "        print(num_frames)\n",
    "        print(annot)\n",
    "        raise\n",
    "    \n",
    "    return np.array(frames_labels), bg_segs\n",
    "\n",
    "def positional_encoding(data: np.ndarray) -> np.ndarray:\n",
    "    def get_sinusoid_encoding_table(length, d_model):\n",
    "\n",
    "        def cal_angle(position, hid_idx):\n",
    "            return position / np.power(10000, 2 * (hid_idx // 2) / d_model)\n",
    "\n",
    "        def get_posi_angle_vec(position):\n",
    "            return [cal_angle(position, hid_j) for hid_j in range(d_model)]\n",
    "\n",
    "        sinusoid_table = np.array([get_posi_angle_vec(pos_i) for pos_i in range(length)])\n",
    "\n",
    "        sinusoid_table[:, 0::2] = np.sin(sinusoid_table[:, 0::2])  # dim 2i\n",
    "        sinusoid_table[:, 1::2] = np.cos(sinusoid_table[:, 1::2])  # dim 2i+1\n",
    "\n",
    "        return sinusoid_table\n",
    "\n",
    "    d_model = data.shape[1]\n",
    "    length = data.shape[0]\n",
    "\n",
    "    pe = get_sinusoid_encoding_table(length, d_model)\n",
    "\n",
    "    return data + pe\n",
    "    \n",
    "gt, bg_segs = gt_to_array(paths[0])"
   ]
  },
  {
   "cell_type": "code",
   "execution_count": 9,
   "id": "8e002547-a463-4471-a4ec-81d8382381ee",
   "metadata": {},
   "outputs": [],
   "source": [
    "from sklearn.metrics import f1_score\n",
    "\n",
    "class EvalSegmentation:\n",
    "    \n",
    "    def __init__(self):\n",
    "        self.mofs = {}\n",
    "        self.ious = {}\n",
    "        self.f1_scores = {}\n",
    "        \n",
    "    def setup_key(self, key):\n",
    "        if key not in self.mofs:\n",
    "            self.mofs[key] = []\n",
    "        \n",
    "        if key not in self.ious:\n",
    "            self.ious[key] = []\n",
    "            \n",
    "        if key not in self.f1_scores:\n",
    "            self.f1_scores[key] = []\n",
    "            \n",
    "    def __call__(self, predicted, ground_truth, key):\n",
    "        acc = Accuracy()\n",
    "        acc.predicted_labels = predicted\n",
    "        acc.gt_labels = ground_truth\n",
    "        acc.mof()\n",
    "        acc.mof_classes()\n",
    "        acc.iou_classes()\n",
    "        stats = acc.stat()['iou']\n",
    "        iou = stats[0] / stats[1]\n",
    "        self.ious[key].append(iou)\n",
    "        self.mofs[key].append(acc.mof_val())\n",
    "        \n",
    "        mapped_pred = self.map_pred2gt(ground_truth, predicted)\n",
    "        self.f1_scores[key].append(f1_score(ground_truth, mapped_pred, average='micro'))\n",
    "    \n",
    "    def map_pred2gt(self, gt, pred):\n",
    "        gt2pred = self.get_gt2preds_mapping(gt, pred)\n",
    "        mapped_pred = np.copy(pred)\n",
    "        for gt_label in np.unique(gt):\n",
    "            pred_label = gt2pred.get(gt_label, None)\n",
    "            mapped_pred[mapped_pred == pred_label] = gt_label\n",
    "        return mapped_pred\n",
    "        \n",
    "    def get_gt2preds_mapping(self, gt, pred):\n",
    "        acc = Accuracy()\n",
    "        acc.predicted_labels = pred\n",
    "        acc.gt_labels = gt\n",
    "        return acc.get_gt2labels_mapping()\n",
    "            \n",
    "    def report_results(self):\n",
    "        def calculate(metrics_per_key, metric_name):\n",
    "            print(metric_name)\n",
    "            acc_metric = []  # accumulated metric\n",
    "            for key, metrics_per_sample in metrics_per_key.items():\n",
    "                print(key, np.mean(metrics_per_sample))\n",
    "                acc_metric.append(np.mean(metrics_per_sample))\n",
    "            print(f\"Final {metric_name}: {np.mean(acc_metric)}\")\n",
    "        calculate(self.ious, 'IoU')\n",
    "        calculate(self.mofs, 'MoF')\n",
    "        calculate(self.f1_scores, 'F1-score')\n",
    "\n",
    "evalseg = EvalSegmentation()"
   ]
  },
  {
   "cell_type": "code",
   "execution_count": 11,
   "id": "7c01d767-cde8-4dc7-b073-f35950a4bdbe",
   "metadata": {},
   "outputs": [],
   "source": [
    "from dataclasses import dataclass, field\n",
    "from typing import List, Tuple\n",
    "from clusters import ClusterStrategy\n",
    "\n",
    "@dataclass\n",
    "class SegmentationInria:\n",
    "    with_pe: bool = None\n",
    "    cluster: ClusterStrategy = None\n",
    "    paths: List[str] = field(default_factory=lambda: get_video_paths(root_folder='data_new', video_ext='avi'))\n",
    "    features_seg_size: int = None\n",
    "    eval_seg: EvalSegmentation = EvalSegmentation()\n",
    "        \n",
    "    def get_features(self, path: str) -> np.ndarray:\n",
    "        pass\n",
    "    \n",
    "    def remove_bg(self, pred_labels, gt) -> Tuple[np.ndarray, np.ndarray]:\n",
    "        bg_idx = np.where(gt == -1)[0]\n",
    "        bg_idx_rem = bg_idx[:int(len(bg_idx) * .75)]\n",
    "        pred_labels = np.delete(pred_labels, bg_idx_rem, axis=0)\n",
    "        gt = np.delete(gt, bg_idx_rem, axis=0)\n",
    "        return pred_labels, gt\n",
    "    \n",
    "    def segment_a_video(self, path):\n",
    "        gt, bg_segs = gt_to_array(path)\n",
    "        features = self.get_features(path)\n",
    "        pred_labels = self.cluster.auto(features)\n",
    "        pred_labels = map_seglabels_to_framelabels(pred_labels, gt.shape[0], seg_len=self.features_seg_size)\n",
    "\n",
    "        if gt.shape[0] > pred_labels.shape[0]:\n",
    "            gt = gt[:pred_labels.shape[0]]\n",
    "        elif gt.shape[0] < pred_labels.shape[0]:\n",
    "            pred_labels = pred_labels[:gt.shape[0]]\n",
    "\n",
    "        pred_labels, gt = self.remove_bg(pred_labels, gt)\n",
    "                \n",
    "        activity = path.split(\"/\")[2]\n",
    "        mapping = self.eval_seg.get_gt2preds_mapping(gt, pred_labels)\n",
    "        self.eval_seg.setup_key(activity)\n",
    "        self.eval_seg(pred_labels, gt, activity)\n",
    "        return mapping, gt, pred_labels\n",
    "    \n",
    "    def segment(self):\n",
    "        for i, path in enumerate(self.paths):\n",
    "            try:\n",
    "                gt, bg_segs = gt_to_array(path)\n",
    "                features = self.get_features(path)\n",
    "                pred_labels = self.cluster.auto(features)\n",
    "                pred_labels = map_seglabels_to_framelabels(pred_labels, gt.shape[0], seg_len=self.features_seg_size)\n",
    "\n",
    "                if gt.shape[0] > pred_labels.shape[0]:\n",
    "                    gt = gt[:pred_labels.shape[0]]\n",
    "                elif gt.shape[0] < pred_labels.shape[0]:\n",
    "                    pred_labels = pred_labels[:gt.shape[0]]\n",
    "\n",
    "                pred_labels, gt = self.remove_bg(pred_labels, gt)\n",
    "                \n",
    "                activity = path.split(\"/\")[2]\n",
    "                self.eval_seg.setup_key(activity)\n",
    "                self.eval_seg(pred_labels, gt, activity)\n",
    "\n",
    "            except Exception as e:\n",
    "                print(path)\n",
    "                print(e)\n",
    "                raise e\n",
    "    \n",
    "@dataclass\n",
    "class SegSlowFast(SegmentationInria):\n",
    "    \n",
    "    features_seg_size: int = 32\n",
    "    \n",
    "    def get_features(self, path: str) -> np.ndarray:\n",
    "        features_path = \"_\".join([ExtractorFactory.SLOWFAST.value, str(self.features_seg_size)])\n",
    "        video = Video(path, features_path)\n",
    "        features = video.features(with_pe=self.with_pe)\n",
    "        return features\n",
    "\n",
    "@dataclass\n",
    "class SegI3D(SegmentationInria):\n",
    "    \n",
    "    features_seg_size: int = 10\n",
    "\n",
    "    def get_i3d_feature_path(self, video_path: str) -> Tuple[str, str]:\n",
    "        features_base_path = f'./inria_features_{self.features_seg_size}frames/i3d'\n",
    "        video_fname = video_path.split('/')[-1]\n",
    "        fname = video_fname.split('.')[0]\n",
    "        rgb_feat = \"_\".join([fname, 'rgb']) + '.npy'\n",
    "        flow_feat = \"_\".join([fname, 'flow']) + '.npy'\n",
    "\n",
    "        rgb_path = os.path.join(features_base_path, rgb_feat)\n",
    "        flow_path = os.path.join(features_base_path, flow_feat)\n",
    "        return rgb_path, flow_path\n",
    "\n",
    "    def get_features(self, path: str) -> np.ndarray:\n",
    "        rgb, flow = self.get_i3d_feature_path(path)\n",
    "        features = np.concatenate([np.load(flow), np.load(rgb)], axis=1)\n",
    "        last_frames = np.array([features[-1] for _ in range(10)])\n",
    "        features = np.concatenate([features, last_frames], axis=0)\n",
    "        if self.with_pe:\n",
    "            return positional_encoding(features)\n",
    "        else:\n",
    "            return features\n",
    "\n",
    "@dataclass\n",
    "class SegDino(SegmentationInria):\n",
    "    \n",
    "    features_seg_size: int = 32\n",
    "    \n",
    "    def get_features(self, path: str) -> np.ndarray:\n",
    "        features_path = \"_\".join([ExtractorFactory.SLOWFAST.value, str(1)])\n",
    "        video = Video(path, features_path)\n",
    "        features = video.features(with_pe=self.with_pe, avg=True, n_rows=self.features_seg_size)\n",
    "        return features"
   ]
  },
  {
   "cell_type": "markdown",
   "id": "4c90aeab-76f9-4a27-8f27-4f4caf696cb6",
   "metadata": {},
   "source": [
    "### Dino"
   ]
  },
  {
   "cell_type": "code",
   "execution_count": null,
   "id": "d9dcccba-2f58-41fd-b2f7-92cbb70bf9e2",
   "metadata": {},
   "outputs": [],
   "source": [
    "seg = SegDino(with_pe=True, cluster=ClusterFactory.get(\"FINCH\")(distance='euclidean'), features_seg_size=64)\n",
    "seg.segment()\n",
    "seg.eval_seg.report_results()"
   ]
  },
  {
   "cell_type": "markdown",
   "id": "6dbb2c39-e21f-45ff-a6ff-02a53345b396",
   "metadata": {},
   "source": [
    "## I3D"
   ]
  },
  {
   "cell_type": "markdown",
   "id": "7e65f729-334e-4c81-af5e-6d97edd28f3d",
   "metadata": {},
   "source": [
    "### 10 Frames window"
   ]
  },
  {
   "cell_type": "markdown",
   "id": "bb75bdd8-c14b-43b3-ba97-dc88e8fe5978",
   "metadata": {},
   "source": [
    "### FINCH + PE"
   ]
  },
  {
   "cell_type": "code",
   "execution_count": 15,
   "id": "287f48ec-1f01-42da-beed-432429b7dc6f",
   "metadata": {},
   "outputs": [
    {
     "name": "stdout",
     "output_type": "stream",
     "text": [
      "IoU\n",
      "changing_tire 0.1428592861283747\n",
      "coffee 0.15677779009143825\n",
      "jump_car 0.2410226116961634\n",
      "repot 0.1877462846482402\n",
      "cpr 0.23950889796100594\n",
      "Final IoU: 0.1935829741050445\n",
      "MoF\n",
      "changing_tire 0.34260689968317454\n",
      "coffee 0.46259859287434973\n",
      "jump_car 0.6195635161019869\n",
      "repot 0.4716239547388482\n",
      "cpr 0.46605864665043895\n",
      "Final MoF: 0.47249032200975966\n",
      "F1-score\n",
      "changing_tire 0.2746638044097363\n",
      "coffee 0.4222502026640185\n",
      "jump_car 0.6030957545168408\n",
      "repot 0.42292823634834753\n",
      "cpr 0.4381697227123791\n",
      "Final F1-score: 0.4322215441302644\n"
     ]
    }
   ],
   "source": [
    "seg = SegI3D(with_pe=True, cluster=ClusterFactory.get(\"FINCH\")(distance='euclidean'))\n",
    "seg.segment()\n",
    "seg.eval_seg.report_results()"
   ]
  },
  {
   "cell_type": "markdown",
   "id": "625dfba5-9945-41e6-bbd5-33a5a0370e9e",
   "metadata": {},
   "source": [
    "### FINCH"
   ]
  },
  {
   "cell_type": "code",
   "execution_count": 16,
   "id": "219d9105-776f-48ef-b14a-cfec59015cd6",
   "metadata": {},
   "outputs": [
    {
     "name": "stdout",
     "output_type": "stream",
     "text": [
      "IoU\n",
      "changing_tire 0.13503857117041979\n",
      "coffee 0.20253044169484283\n",
      "jump_car 0.20383611977840432\n",
      "repot 0.19673634447032032\n",
      "cpr 0.26976946162594023\n",
      "Final IoU: 0.20158218774798548\n",
      "MoF\n",
      "changing_tire 0.3654047711530034\n",
      "coffee 0.5238425388581721\n",
      "jump_car 0.5827653353431912\n",
      "repot 0.4982853953739562\n",
      "cpr 0.5223081162650306\n",
      "Final MoF: 0.49852123139867077\n",
      "F1-score\n",
      "changing_tire 0.26795840032332274\n",
      "coffee 0.44412421524551554\n",
      "jump_car 0.561277079433804\n",
      "repot 0.44051545301117406\n",
      "cpr 0.45712662681317595\n",
      "Final F1-score: 0.43420035496539844\n"
     ]
    }
   ],
   "source": [
    "seg = SegI3D(with_pe=False, cluster=ClusterFactory.get(\"FINCH\")(distance='euclidean'))\n",
    "seg.segment()\n",
    "seg.eval_seg.report_results()"
   ]
  },
  {
   "cell_type": "markdown",
   "id": "d80e9d33-f27b-49d0-b1a6-e746312f42a9",
   "metadata": {},
   "source": [
    "### KMeans + SS + PE"
   ]
  },
  {
   "cell_type": "code",
   "execution_count": 19,
   "id": "18fb04bd-ca61-4be5-9c05-9013dde9ea95",
   "metadata": {},
   "outputs": [
    {
     "name": "stdout",
     "output_type": "stream",
     "text": [
      "IoU\n",
      "changing_tire 0.21093392390129984\n",
      "coffee 0.2810115283540194\n",
      "jump_car 0.3152120332173841\n",
      "repot 0.25634344383376645\n",
      "cpr 0.2806910435791001\n",
      "Final IoU: 0.26883839457711395\n",
      "MoF\n",
      "changing_tire 0.3356331175994345\n",
      "coffee 0.4287682544979242\n",
      "jump_car 0.49065349252028206\n",
      "repot 0.40230438949361813\n",
      "cpr 0.4038886020089967\n",
      "Final MoF: 0.4122495712240511\n",
      "F1-score\n",
      "changing_tire 0.26207157499809663\n",
      "coffee 0.37472453600953903\n",
      "jump_car 0.47137022104364434\n",
      "repot 0.3655696847846977\n",
      "cpr 0.3624671679696988\n",
      "Final F1-score: 0.3672406369611353\n"
     ]
    }
   ],
   "source": [
    "seg = SegI3D(with_pe=True, cluster=ClusterFactory.get(\"KMeans\")(n=2))\n",
    "seg.segment()\n",
    "seg.eval_seg.report_results()"
   ]
  },
  {
   "cell_type": "markdown",
   "id": "3bb2ece0-a9aa-445d-adfe-e07e0a740879",
   "metadata": {},
   "source": [
    "### KMeans + SS"
   ]
  },
  {
   "cell_type": "code",
   "execution_count": 20,
   "id": "34e109e1-44eb-48a4-8718-27a1c5e11c42",
   "metadata": {},
   "outputs": [
    {
     "name": "stdout",
     "output_type": "stream",
     "text": [
      "IoU\n",
      "changing_tire 0.21611739346166264\n",
      "coffee 0.31703159143020326\n",
      "jump_car 0.30614306930482205\n",
      "repot 0.27241191157345523\n",
      "cpr 0.31204870437557436\n",
      "Final IoU: 0.2847505340291435\n",
      "MoF\n",
      "changing_tire 0.3663653571030707\n",
      "coffee 0.48354670573335173\n",
      "jump_car 0.49560333858803296\n",
      "repot 0.44026940468962034\n",
      "cpr 0.448833569507202\n",
      "Final MoF: 0.44692367512425557\n",
      "F1-score\n",
      "changing_tire 0.275124617365379\n",
      "coffee 0.4159325526273011\n",
      "jump_car 0.4683961166714614\n",
      "repot 0.3980009891660877\n",
      "cpr 0.40413420858417226\n",
      "Final F1-score: 0.39231769688288026\n"
     ]
    }
   ],
   "source": [
    "seg = SegI3D(with_pe=False, cluster=ClusterFactory.get(\"KMeans\")(n=2))\n",
    "seg.segment()\n",
    "seg.eval_seg.report_results()"
   ]
  },
  {
   "cell_type": "markdown",
   "id": "b9b066df-2840-47f0-984c-e415951723ff",
   "metadata": {},
   "source": [
    "### 16 frames window size"
   ]
  },
  {
   "cell_type": "markdown",
   "id": "056e688a-3b29-43f1-8b7c-256761351b9f",
   "metadata": {},
   "source": [
    "### FINCH"
   ]
  },
  {
   "cell_type": "code",
   "execution_count": 30,
   "id": "24e515d7-f5b5-4b9a-a5c3-abee54b78888",
   "metadata": {},
   "outputs": [
    {
     "name": "stdout",
     "output_type": "stream",
     "text": [
      "IoU\n",
      "changing_tire 0.14030642827124676\n",
      "coffee 0.19774276093862075\n",
      "jump_car 0.20942009933333774\n",
      "repot 0.19757362970060496\n",
      "cpr 0.32117551031001107\n",
      "Final IoU: 0.21324368571076424\n",
      "MoF\n",
      "changing_tire 0.35742982884693375\n",
      "coffee 0.5019001716246072\n",
      "jump_car 0.6218013881457297\n",
      "repot 0.48548217416906875\n",
      "cpr 0.4954311723257077\n",
      "Final MoF: 0.49240894702240945\n",
      "F1-score\n",
      "changing_tire 0.2690283291394101\n",
      "coffee 0.4558537678435428\n",
      "jump_car 0.5992937913633433\n",
      "repot 0.4441301255844918\n",
      "cpr 0.45966208481937454\n",
      "Final F1-score: 0.4455936197500325\n"
     ]
    }
   ],
   "source": [
    "seg = SegI3D(with_pe=True, cluster=ClusterFactory.get(\"FINCH\")(distance='euclidean'), features_seg_size=16)\n",
    "seg.segment()\n",
    "seg.eval_seg.report_results()"
   ]
  },
  {
   "cell_type": "code",
   "execution_count": 31,
   "id": "412ab827-b16b-462f-8802-cdae62f6b4a7",
   "metadata": {},
   "outputs": [
    {
     "name": "stdout",
     "output_type": "stream",
     "text": [
      "IoU\n",
      "changing_tire 0.15451042117186825\n",
      "coffee 0.22703205497429746\n",
      "jump_car 0.1791808762798116\n",
      "repot 0.20819601093217993\n",
      "cpr 0.28593331451104126\n",
      "Final IoU: 0.21097053557383968\n",
      "MoF\n",
      "changing_tire 0.393142374212136\n",
      "coffee 0.5382973203040232\n",
      "jump_car 0.5822420519369192\n",
      "repot 0.5137293556023992\n",
      "cpr 0.5182093024320655\n",
      "Final MoF: 0.5091240808975087\n",
      "F1-score\n",
      "changing_tire 0.28499747629435623\n",
      "coffee 0.46239887476938396\n",
      "jump_car 0.5584916466459062\n",
      "repot 0.43947467271600354\n",
      "cpr 0.452492016762511\n",
      "Final F1-score: 0.4395709374376322\n"
     ]
    }
   ],
   "source": [
    "seg = SegI3D(with_pe=False, cluster=ClusterFactory.get(\"FINCH\")(distance='euclidean'), features_seg_size=16)\n",
    "seg.segment()\n",
    "seg.eval_seg.report_results()"
   ]
  },
  {
   "cell_type": "markdown",
   "id": "302293ad-4e25-4c41-849a-b83ccfdbea8c",
   "metadata": {},
   "source": [
    "### KMEANS"
   ]
  },
  {
   "cell_type": "code",
   "execution_count": 33,
   "id": "472d97fe-c9f3-48c9-8ad2-a87821241e67",
   "metadata": {},
   "outputs": [
    {
     "name": "stdout",
     "output_type": "stream",
     "text": [
      "IoU\n",
      "changing_tire 0.23571839201696995\n",
      "coffee 0.31983383442842006\n",
      "jump_car 0.2885852977753377\n",
      "repot 0.3028235651957579\n",
      "cpr 0.3329674260094023\n",
      "Final IoU: 0.2959857030851776\n",
      "MoF\n",
      "changing_tire 0.38623564170182073\n",
      "coffee 0.4977545003480842\n",
      "jump_car 0.5107688079838034\n",
      "repot 0.4597590133255721\n",
      "cpr 0.4545846744436612\n",
      "Final MoF: 0.46182052756058833\n",
      "F1-score\n",
      "changing_tire 0.30028011444042485\n",
      "coffee 0.4366632224255589\n",
      "jump_car 0.4836897958177323\n",
      "repot 0.4068606722339177\n",
      "cpr 0.40547552203357784\n",
      "Final F1-score: 0.4065938653902423\n"
     ]
    }
   ],
   "source": [
    "seg = SegI3D(with_pe=True, cluster=ClusterFactory.get(\"KMeans\")(n=2), features_seg_size=16)\n",
    "seg.segment()\n",
    "seg.eval_seg.report_results()"
   ]
  },
  {
   "cell_type": "code",
   "execution_count": 32,
   "id": "ef6b9636-7735-43ea-a3bd-b5c4bb97b816",
   "metadata": {},
   "outputs": [
    {
     "name": "stdout",
     "output_type": "stream",
     "text": [
      "IoU\n",
      "changing_tire 0.1815479863916414\n",
      "coffee 0.26833595867539467\n",
      "jump_car 0.20241647590977482\n",
      "repot 0.2583796080180404\n",
      "cpr 0.32212448502315266\n",
      "Final IoU: 0.2465609028036008\n",
      "MoF\n",
      "changing_tire 0.41673489269006125\n",
      "coffee 0.5689267833707407\n",
      "jump_car 0.5601912820791706\n",
      "repot 0.5248794196901037\n",
      "cpr 0.532383251556799\n",
      "Final MoF: 0.520623125877375\n",
      "F1-score\n",
      "changing_tire 0.3079123722207266\n",
      "coffee 0.48911675498734153\n",
      "jump_car 0.5301361873944381\n",
      "repot 0.452897361633851\n",
      "cpr 0.46515730195505833\n",
      "Final F1-score: 0.4490439956382831\n"
     ]
    }
   ],
   "source": [
    "seg = SegI3D(with_pe=False, cluster=ClusterFactory.get(\"KMeans\")(n=2), features_seg_size=16)\n",
    "seg.segment()\n",
    "seg.eval_seg.report_results()"
   ]
  },
  {
   "cell_type": "markdown",
   "id": "31b0cce4-2b5a-448a-9538-ff2bd22ca02d",
   "metadata": {},
   "source": [
    "### I3D 24 Frames"
   ]
  },
  {
   "cell_type": "code",
   "execution_count": 36,
   "id": "b80e2e41-cf84-4ace-ad96-0b89ba869e29",
   "metadata": {},
   "outputs": [
    {
     "name": "stdout",
     "output_type": "stream",
     "text": [
      "IoU\n",
      "changing_tire 0.22269267598032505\n",
      "coffee 0.29403192493771657\n",
      "jump_car 0.27351306351597887\n",
      "repot 0.2837597199932912\n",
      "cpr 0.32202168336586967\n",
      "Final IoU: 0.2792038135586362\n",
      "MoF\n",
      "changing_tire 0.38846706109548224\n",
      "coffee 0.500690955555201\n",
      "jump_car 0.530071378447344\n",
      "repot 0.46389399141099036\n",
      "cpr 0.4550967438434875\n",
      "Final MoF: 0.467644026070501\n",
      "F1-score\n",
      "changing_tire 0.3044445629253538\n",
      "coffee 0.442862855428481\n",
      "jump_car 0.5038499212822442\n",
      "repot 0.41092802063646994\n",
      "cpr 0.4129645666514313\n",
      "Final F1-score: 0.41500998538479605\n"
     ]
    }
   ],
   "source": [
    "seg = SegI3D(with_pe=True, cluster=ClusterFactory.get(\"FINCH\")(distance='euclidean'), features_seg_size=24)\n",
    "seg.segment()\n",
    "seg.eval_seg.report_results()"
   ]
  },
  {
   "cell_type": "code",
   "execution_count": 38,
   "id": "60e2d3be-96df-41e2-89e0-ab07cba6b50f",
   "metadata": {},
   "outputs": [
    {
     "name": "stdout",
     "output_type": "stream",
     "text": [
      "IoU\n",
      "changing_tire 0.20258123876347292\n",
      "coffee 0.27969062840236936\n",
      "jump_car 0.23652904369554106\n",
      "repot 0.26773055191025685\n",
      "cpr 0.3001102983444363\n",
      "Final IoU: 0.2573283522232153\n",
      "MoF\n",
      "changing_tire 0.3974224350387169\n",
      "coffee 0.5190862838945497\n",
      "jump_car 0.5315562301287832\n",
      "repot 0.48746431012348795\n",
      "cpr 0.4801898376665951\n",
      "Final MoF: 0.48314381937042655\n",
      "F1-score\n",
      "changing_tire 0.2972556263044784\n",
      "coffee 0.44501929217710123\n",
      "jump_car 0.503969209063336\n",
      "repot 0.4217575302132316\n",
      "cpr 0.42709090455448634\n",
      "Final F1-score: 0.41901851246252664\n"
     ]
    }
   ],
   "source": [
    "seg = SegI3D(with_pe=False, cluster=ClusterFactory.get(\"FINCH\")(distance='euclidean'), features_seg_size=24)\n",
    "seg.segment()\n",
    "seg.eval_seg.report_results()"
   ]
  },
  {
   "cell_type": "markdown",
   "id": "eccfa91c-e20a-4033-b96f-4e15567a3534",
   "metadata": {},
   "source": [
    "### I3D 32 Frames"
   ]
  },
  {
   "cell_type": "code",
   "execution_count": 52,
   "id": "417fc476-a890-4739-ad97-e526e4eb630b",
   "metadata": {},
   "outputs": [
    {
     "name": "stdout",
     "output_type": "stream",
     "text": [
      "IoU\n",
      "changing_tire 0.19832657487937322\n",
      "coffee 0.26831938942291805\n",
      "jump_car 0.23315085971270258\n",
      "repot 0.25665526256116195\n",
      "cpr 0.30174061836669336\n",
      "Final IoU: 0.25163854098856986\n",
      "MoF\n",
      "changing_tire 0.39587128926175935\n",
      "coffee 0.5189169120040698\n",
      "jump_car 0.5412216567954566\n",
      "repot 0.4869754298586439\n",
      "cpr 0.4816090313702891\n",
      "Final MoF: 0.4849188638580437\n",
      "F1-score\n",
      "changing_tire 0.2964181719600475\n",
      "coffee 0.44411279419870753\n",
      "jump_car 0.5137769263708568\n",
      "repot 0.42016073025239586\n",
      "cpr 0.42920840952708705\n",
      "Final F1-score: 0.42073540646181895\n"
     ]
    }
   ],
   "source": [
    "seg = SegI3D(with_pe=True, cluster=ClusterFactory.get(\"FINCH\")(distance='euclidean'), features_seg_size=32)\n",
    "seg.segment()\n",
    "seg.eval_seg.report_results()"
   ]
  },
  {
   "cell_type": "code",
   "execution_count": 7,
   "id": "a91aaf2e-aa94-4503-bf7f-00a64dcf954d",
   "metadata": {},
   "outputs": [
    {
     "name": "stdout",
     "output_type": "stream",
     "text": [
      "IoU\n",
      "changing_tire 0.17805529668302\n",
      "coffee 0.22771685028878333\n",
      "jump_car 0.19331741582075038\n",
      "repot 0.2240240477863761\n",
      "cpr 0.3355783642061675\n",
      "Final IoU: 0.23173839495701945\n",
      "MoF\n",
      "changing_tire 0.4015194358104095\n",
      "coffee 0.529398684379253\n",
      "jump_car 0.5955252233669125\n",
      "repot 0.4947537024743304\n",
      "cpr 0.5175151758557958\n",
      "Final MoF: 0.5077424443773402\n",
      "F1-score\n",
      "changing_tire 0.3134002197271179\n",
      "coffee 0.4547614991727481\n",
      "jump_car 0.5608767688792926\n",
      "repot 0.4583821147378034\n",
      "cpr 0.4396378447084788\n",
      "Final F1-score: 0.44541168944508813\n"
     ]
    }
   ],
   "source": [
    "index_min = min(range(len(values)), key=values.__getitem__)seg = SegI3D(with_pe=True, cluster=ClusterFactory.get(\"FINCH\")(distance='euclidean'), features_seg_size=40)\n",
    "seg.segment()\n",
    "seg.eval_seg.report_results()"
   ]
  },
  {
   "cell_type": "code",
   "execution_count": 11,
   "id": "8ea20bf4-3173-4d2f-98f2-786bbc246032",
   "metadata": {},
   "outputs": [
    {
     "name": "stdout",
     "output_type": "stream",
     "text": [
      "IoU\n",
      "changing_tire 0.1532321529036785\n",
      "coffee 0.24125023122885933\n",
      "jump_car 0.13708991744351798\n",
      "repot 0.269347946147166\n",
      "cpr 0.2834007058040955\n",
      "Final IoU: 0.21686419070546345\n",
      "MoF\n",
      "changing_tire 0.420658228654649\n",
      "coffee 0.5721159137286146\n",
      "jump_car 0.5086497952071571\n",
      "repot 0.5734624792142426\n",
      "cpr 0.5685608891641775\n",
      "Final MoF: 0.5286894611937683\n",
      "F1-score\n",
      "changing_tire 0.3089989519958658\n",
      "coffee 0.4366788522798364\n",
      "jump_car 0.48057740905976515\n",
      "repot 0.5090303690678927\n",
      "cpr 0.4859971744497786\n",
      "Final F1-score: 0.4442565513706277\n"
     ]
    }
   ],
   "source": [
    "seg = SegI3D(with_pe=False, cluster=ClusterFactory.get(\"FINCH\")(distance='euclidean'), features_seg_size=40)\n",
    "seg.segment()\n",
    "seg.eval_seg.report_results()"
   ]
  },
  {
   "cell_type": "code",
   "execution_count": 9,
   "id": "adcfb8d0-a9fb-428f-9984-28de32cc4b49",
   "metadata": {},
   "outputs": [
    {
     "name": "stdout",
     "output_type": "stream",
     "text": [
      "IoU\n",
      "changing_tire 0.19658702988043616\n",
      "coffee 0.2543551918523486\n",
      "jump_car 0.22449978869023396\n",
      "repot 0.24507933975583007\n",
      "cpr 0.35417634691686933\n",
      "Final IoU: 0.25493953941914366\n",
      "MoF\n",
      "changing_tire 0.4223981885803382\n",
      "coffee 0.5586936313297919\n",
      "jump_car 0.6081191796262686\n",
      "repot 0.5169928720139609\n",
      "cpr 0.5194180136923116\n",
      "Final MoF: 0.5251243770485343\n",
      "F1-score\n",
      "changing_tire 0.33902437079705877\n",
      "coffee 0.47319118328026805\n",
      "jump_car 0.5650350524181565\n",
      "repot 0.4816838950342356\n",
      "cpr 0.43089687458422327\n",
      "Final F1-score: 0.45796627522278843\n"
     ]
    }
   ],
   "source": [
    "seg = SegI3D(with_pe=True, cluster=ClusterFactory.get(\"FINCH\")(distance='euclidean'), features_seg_size=48)\n",
    "seg.segment()\n",
    "seg.eval_seg.report_results()"
   ]
  },
  {
   "cell_type": "code",
   "execution_count": 12,
   "id": "af00d5c8-efe8-439c-b261-7af37ccc6187",
   "metadata": {},
   "outputs": [
    {
     "name": "stdout",
     "output_type": "stream",
     "text": [
      "IoU\n",
      "changing_tire 0.16689163568816295\n",
      "coffee 0.2466981073915139\n",
      "jump_car 0.1541482419386781\n",
      "repot 0.2424811958394466\n",
      "cpr 0.28209275701126957\n",
      "Final IoU: 0.21846238757381425\n",
      "MoF\n",
      "changing_tire 0.4275932169186173\n",
      "coffee 0.5838516665852228\n",
      "jump_car 0.5014054652466845\n",
      "repot 0.566572120317934\n",
      "cpr 0.5747442591606375\n",
      "Final MoF: 0.5308333456458193\n",
      "F1-score\n",
      "changing_tire 0.3212678532077281\n",
      "coffee 0.45927255846908266\n",
      "jump_car 0.468776234704479\n",
      "repot 0.4914974185458245\n",
      "cpr 0.47791439718581913\n",
      "Final F1-score: 0.44374569242258666\n"
     ]
    }
   ],
   "source": [
    "seg = SegI3D(with_pe=False, cluster=ClusterFactory.get(\"FINCH\")(distance='euclidean'), features_seg_size=48)\n",
    "seg.segment()\n",
    "seg.eval_seg.report_results()"
   ]
  },
  {
   "cell_type": "code",
   "execution_count": 10,
   "id": "0f2cc6d8-f480-49fe-8270-e721721ad299",
   "metadata": {},
   "outputs": [
    {
     "name": "stdout",
     "output_type": "stream",
     "text": [
      "IoU\n",
      "changing_tire 0.20490772656762743\n",
      "coffee 0.2842315420247562\n",
      "jump_car 0.22884099329312438\n",
      "repot 0.2666746285680824\n",
      "cpr 0.36338513481966406\n",
      "Final IoU: 0.2696080050546509\n",
      "MoF\n",
      "changing_tire 0.43673029690492576\n",
      "coffee 0.5732025269179202\n",
      "jump_car 0.5944532317571354\n",
      "repot 0.5400827699119723\n",
      "cpr 0.5232212709119289\n",
      "Final MoF: 0.5335380192807765\n",
      "F1-score\n",
      "changing_tire 0.3537313412760951\n",
      "coffee 0.4735825912598074\n",
      "jump_car 0.5420209454640179\n",
      "repot 0.49119557989462104\n",
      "cpr 0.43829234820149104\n",
      "Final F1-score: 0.4597645612192065\n"
     ]
    }
   ],
   "source": [
    "seg = SegI3D(with_pe=True, cluster=ClusterFactory.get(\"FINCH\")(distance='euclidean'), features_seg_size=64)\n",
    "seg.segment()\n",
    "seg.eval_seg.report_results()"
   ]
  },
  {
   "cell_type": "code",
   "execution_count": 13,
   "id": "3a3462e9-4914-42b2-905d-b6a367a07d07",
   "metadata": {},
   "outputs": [
    {
     "name": "stdout",
     "output_type": "stream",
     "text": [
      "IoU\n",
      "changing_tire 0.1578117124374305\n",
      "coffee 0.2340855444457093\n",
      "jump_car 0.15503621236419732\n",
      "repot 0.25125315703840667\n",
      "cpr 0.2782980570606406\n",
      "Final IoU: 0.21529693666927688\n",
      "MoF\n",
      "changing_tire 0.4166217329733891\n",
      "coffee 0.5797658187825401\n",
      "jump_car 0.497789459789956\n",
      "repot 0.5687124031733863\n",
      "cpr 0.5741778741744089\n",
      "Final MoF: 0.5274134577787362\n",
      "F1-score\n",
      "changing_tire 0.32000737403882723\n",
      "coffee 0.4505286449771191\n",
      "jump_car 0.4657015660867974\n",
      "repot 0.509458700304623\n",
      "cpr 0.4827485411134867\n",
      "Final F1-score: 0.44568896530417074\n"
     ]
    }
   ],
   "source": [
    "seg = SegI3D(with_pe=False, cluster=ClusterFactory.get(\"FINCH\")(distance='euclidean'), features_seg_size=64)\n",
    "seg.segment()\n",
    "seg.eval_seg.report_results()"
   ]
  },
  {
   "cell_type": "code",
   "execution_count": 53,
   "id": "5e0a8a16-3320-4618-82f6-2c285cbf7530",
   "metadata": {},
   "outputs": [
    {
     "name": "stdout",
     "output_type": "stream",
     "text": [
      "IoU\n",
      "changing_tire 0.1933401776383615\n",
      "coffee 0.26691605348145114\n",
      "jump_car 0.22120592252064122\n",
      "repot 0.25311334344348374\n",
      "cpr 0.29729013051925\n",
      "Final IoU: 0.24637312552063753\n",
      "MoF\n",
      "changing_tire 0.3973185504152024\n",
      "coffee 0.5272549857465189\n",
      "jump_car 0.5368064997324419\n",
      "repot 0.4939554743379694\n",
      "cpr 0.48895114350629126\n",
      "Final MoF: 0.48885733074768484\n",
      "F1-score\n",
      "changing_tire 0.293695581848309\n",
      "coffee 0.45079398393614695\n",
      "jump_car 0.5093493083120911\n",
      "repot 0.42388894528895565\n",
      "cpr 0.4359409230171649\n",
      "Final F1-score: 0.4227337484805336\n"
     ]
    }
   ],
   "source": [
    "seg = SegI3D(with_pe=False, cluster=ClusterFactory.get(\"FINCH\")(distance='euclidean'), features_seg_size=32)\n",
    "seg.segment()\n",
    "seg.eval_seg.report_results()"
   ]
  },
  {
   "cell_type": "markdown",
   "id": "50065872-7f9c-4428-82f4-c7f56e961758",
   "metadata": {},
   "source": [
    "## Slowfast"
   ]
  },
  {
   "cell_type": "markdown",
   "id": "60bc10ae-9578-4364-98de-a354a19769a0",
   "metadata": {},
   "source": [
    "### FINCH + PE"
   ]
  },
  {
   "cell_type": "markdown",
   "id": "6a0a0134-5f51-49b9-b650-b8ec8773d9ed",
   "metadata": {},
   "source": [
    "#### 32"
   ]
  },
  {
   "cell_type": "code",
   "execution_count": null,
   "id": "3ea2d929-fcce-4cef-83ea-a7b45bbf1409",
   "metadata": {},
   "outputs": [],
   "source": [
    "seg = SegSlowFast(with_pe=True, cluster=ClusterFactory.get(\"FINCH\")(distance='euclidean'))\n",
    "seg.segment()\n",
    "seg.eval_seg.report_results()"
   ]
  },
  {
   "cell_type": "markdown",
   "id": "c8adf31a-8d68-4f20-9be0-18c3c49f29d9",
   "metadata": {},
   "source": [
    "#### 40"
   ]
  },
  {
   "cell_type": "code",
   "execution_count": 143,
   "id": "16257fc4-e6fb-47cb-a602-547535b8deca",
   "metadata": {},
   "outputs": [
    {
     "name": "stdout",
     "output_type": "stream",
     "text": [
      "IoU\n",
      "changing_tire 0.22834494457228383\n",
      "coffee 0.3440988634153554\n",
      "jump_car 0.25542658431515536\n",
      "repot 0.3505823608636049\n",
      "cpr 0.36346178496262066\n",
      "Final IoU: 0.30838290762580406\n",
      "MoF\n",
      "changing_tire 0.452971989301585\n",
      "coffee 0.5749322603084855\n",
      "jump_car 0.5798952422748483\n",
      "repot 0.542563105114701\n",
      "cpr 0.5029109459829733\n",
      "Final MoF: 0.5306547085965186\n",
      "F1-score\n",
      "changing_tire 0.34330882979650224\n",
      "coffee 0.4713119647548142\n",
      "jump_car 0.5350475773608971\n",
      "repot 0.41783686826051775\n",
      "cpr 0.3938979266474984\n",
      "Final F1-score: 0.43228063336404593\n"
     ]
    }
   ],
   "source": [
    "seg = SegSlowFast(with_pe=True, features_seg_size=40, cluster=ClusterFactory.get(\"FINCH\")(distance='euclidean'))\n",
    "seg.segment()\n",
    "seg.eval_seg.report_results()"
   ]
  },
  {
   "cell_type": "markdown",
   "id": "09aa2b49-7525-4c9e-9553-0ca6a778b496",
   "metadata": {},
   "source": [
    "#### 48"
   ]
  },
  {
   "cell_type": "code",
   "execution_count": 152,
   "id": "78cdbdb5-aead-45b0-9dfe-824817703476",
   "metadata": {},
   "outputs": [
    {
     "name": "stdout",
     "output_type": "stream",
     "text": [
      "IoU\n",
      "changing_tire 0.2288098460669525\n",
      "coffee 0.3649434107197503\n",
      "jump_car 0.26008957899009744\n",
      "repot 0.3688717165205745\n",
      "cpr 0.38045196494135664\n",
      "Final IoU: 0.3206333034477463\n",
      "MoF\n",
      "changing_tire 0.44973919067363777\n",
      "coffee 0.5688369606382164\n",
      "jump_car 0.5755367701729764\n",
      "repot 0.5372306856834747\n",
      "cpr 0.4931056768426267\n",
      "Final MoF: 0.5248898568021864\n",
      "F1-score\n",
      "changing_tire 0.33953759793399996\n",
      "coffee 0.46679500738352325\n",
      "jump_car 0.5332581252309395\n",
      "repot 0.4249768353027257\n",
      "cpr 0.374156758366165\n",
      "Final F1-score: 0.42774486484347074\n"
     ]
    }
   ],
   "source": [
    "seg = SegSlowFast(with_pe=True, features_seg_size=48, cluster=ClusterFactory.get(\"FINCH\")(distance='euclidean'))\n",
    "seg.segment()\n",
    "seg.eval_seg.report_results()"
   ]
  },
  {
   "cell_type": "markdown",
   "id": "9a4a7f58-288c-4bde-bb3f-a238926cc845",
   "metadata": {},
   "source": [
    "#### 64"
   ]
  },
  {
   "cell_type": "code",
   "execution_count": 158,
   "id": "7a2ee616-10eb-48bd-8ec0-429b454999e3",
   "metadata": {},
   "outputs": [
    {
     "name": "stdout",
     "output_type": "stream",
     "text": [
      "IoU\n",
      "changing_tire 0.24204992692153113\n",
      "coffee 0.3720419682174637\n",
      "jump_car 0.25426302477589474\n",
      "repot 0.37047250930489634\n",
      "cpr 0.38230222276065684\n",
      "Final IoU: 0.32422593039608855\n",
      "MoF\n",
      "changing_tire 0.46118737200492677\n",
      "coffee 0.575752964496237\n",
      "jump_car 0.5690493720355989\n",
      "repot 0.5383723589619895\n",
      "cpr 0.4993811018356557\n",
      "Final MoF: 0.5287486338668816\n",
      "F1-score\n",
      "changing_tire 0.34615674269250457\n",
      "coffee 0.46389629177746167\n",
      "jump_car 0.5280971465028826\n",
      "repot 0.42529366682862274\n",
      "cpr 0.3806961301155124\n",
      "Final F1-score: 0.4288279955833968\n"
     ]
    }
   ],
   "source": [
    "seg = SegSlowFast(with_pe=True, features_seg_size=64, cluster=ClusterFactory.get(\"FINCH\")(distance='euclidean'))\n",
    "seg.segment()\n",
    "seg.eval_seg.report_results()"
   ]
  },
  {
   "cell_type": "code",
   "execution_count": 37,
   "id": "fc266972-68a9-4f7f-ac4f-6d75ea5b0847",
   "metadata": {},
   "outputs": [
    {
     "name": "stdout",
     "output_type": "stream",
     "text": [
      "IoU\n",
      "changing_tire 0.20902204597557436\n",
      "coffee 0.29955616109170774\n",
      "jump_car 0.1984651808179539\n",
      "repot 0.2990732901702938\n",
      "cpr 0.31372659543988024\n",
      "Final IoU: 0.26396865469908204\n",
      "MoF\n",
      "changing_tire 0.4766596798306614\n",
      "coffee 0.6002467467673575\n",
      "jump_car 0.6106547950869842\n",
      "repot 0.580359848882048\n",
      "cpr 0.5071970336465881\n",
      "Final MoF: 0.5550236208427277\n",
      "F1-score\n",
      "changing_tire 0.35267899778639294\n",
      "coffee 0.46923788423698937\n",
      "jump_car 0.5659220471277456\n",
      "repot 0.42762788661705414\n",
      "cpr 0.37696696391015444\n",
      "Final F1-score: 0.43848675593566727\n"
     ]
    }
   ],
   "source": [
    "seg = SegSlowFast(with_pe=True, features_seg_size=128, cluster=ClusterFactory.get(\"FINCH\")(distance='euclidean'))\n",
    "seg.segment()\n",
    "seg.eval_seg.report_results()"
   ]
  },
  {
   "cell_type": "markdown",
   "id": "b02cab5d-d386-44f3-ba7b-6ad0ab77236d",
   "metadata": {},
   "source": [
    "### FINCH"
   ]
  },
  {
   "cell_type": "code",
   "execution_count": 24,
   "id": "aafe1f66-3a2f-4262-aa71-18120ace0314",
   "metadata": {},
   "outputs": [
    {
     "name": "stdout",
     "output_type": "stream",
     "text": [
      "IoU\n",
      "changing_tire 0.2402510343540955\n",
      "coffee 0.33368257152291686\n",
      "jump_car 0.3149711915462714\n",
      "repot 0.31349391704029916\n",
      "cpr 0.34023357075946703\n",
      "Final IoU: 0.30852645704461\n",
      "MoF\n",
      "changing_tire 0.3819688783065075\n",
      "coffee 0.4911199940411828\n",
      "jump_car 0.4953979691791683\n",
      "repot 0.460817077357683\n",
      "cpr 0.4625049625333279\n",
      "Final MoF: 0.4583617762835739\n",
      "F1-score\n",
      "changing_tire 0.2966669950191658\n",
      "coffee 0.418705893842721\n",
      "jump_car 0.4639398933717257\n",
      "repot 0.41519284749569985\n",
      "cpr 0.4193368859421304\n",
      "Final F1-score: 0.4027685031342886\n"
     ]
    }
   ],
   "source": [
    "seg = SegSlowFast(with_pe=False, cluster=ClusterFactory.get(\"FINCH\")(distance='euclidean'))\n",
    "seg.segment()\n",
    "seg.eval_seg.report_results()"
   ]
  },
  {
   "cell_type": "code",
   "execution_count": 22,
   "id": "b74ef9a1-b394-4686-b095-3dea59cf3026",
   "metadata": {},
   "outputs": [
    {
     "name": "stdout",
     "output_type": "stream",
     "text": [
      "IoU\n",
      "changing_tire 0.19493916110332135\n",
      "coffee 0.2922885927750841\n",
      "jump_car 0.2267760229754518\n",
      "repot 0.2934097467674206\n",
      "cpr 0.33583696595300216\n",
      "Final IoU: 0.268650097914856\n",
      "MoF\n",
      "changing_tire 0.4014361040595931\n",
      "coffee 0.5404296021959444\n",
      "jump_car 0.5211187833284432\n",
      "repot 0.504446239515564\n",
      "cpr 0.5095329848431167\n",
      "Final MoF: 0.4953927427885323\n",
      "F1-score\n",
      "changing_tire 0.34425580228568087\n",
      "coffee 0.48739564928629014\n",
      "jump_car 0.4802113619487574\n",
      "repot 0.4404757659926028\n",
      "cpr 0.4344986374853702\n",
      "Final F1-score: 0.43736744339974026\n"
     ]
    }
   ],
   "source": [
    "seg = SegSlowFast(with_pe=False, features_seg_size=40, cluster=ClusterFactory.get(\"FINCH\")(distance='euclidean'))\n",
    "seg.segment()\n",
    "seg.eval_seg.report_results()"
   ]
  },
  {
   "cell_type": "code",
   "execution_count": 11,
   "id": "5d075bd4-89c1-4a1d-8ced-baa3874cf6dd",
   "metadata": {},
   "outputs": [
    {
     "name": "stdout",
     "output_type": "stream",
     "text": [
      "IoU\n",
      "changing_tire 0.209243967169658\n",
      "coffee 0.32480293152955514\n",
      "jump_car 0.20741919013868898\n",
      "repot 0.3236523792682979\n",
      "cpr 0.3503851731967915\n",
      "Final IoU: 0.2831007282605983\n",
      "MoF\n",
      "changing_tire 0.42634699928935815\n",
      "coffee 0.5675025529142145\n",
      "jump_car 0.5444899764432034\n",
      "repot 0.5266773294386549\n",
      "cpr 0.5018941143580418\n",
      "Final MoF: 0.5133821944886946\n",
      "F1-score\n",
      "changing_tire 0.3299590037954943\n",
      "coffee 0.5258161394836945\n",
      "jump_car 0.5051198000537558\n",
      "repot 0.45331184881395287\n",
      "cpr 0.39458938803120797\n",
      "Final F1-score: 0.4417592360356212\n"
     ]
    }
   ],
   "source": [
    "seg = SegSlowFast(with_pe=False, features_seg_size=48, cluster=ClusterFactory.get(\"FINCH\")(distance='euclidean'))\n",
    "seg.segment()\n",
    "seg.eval_seg.report_results()"
   ]
  },
  {
   "cell_type": "code",
   "execution_count": 12,
   "id": "c13b64e9-793a-4707-9c8d-14f94d4e4808",
   "metadata": {},
   "outputs": [
    {
     "name": "stdout",
     "output_type": "stream",
     "text": [
      "IoU\n",
      "changing_tire 0.18354550056962843\n",
      "coffee 0.29103970488983044\n",
      "jump_car 0.19209100183564953\n",
      "repot 0.28940850377581256\n",
      "cpr 0.3230781804788175\n",
      "Final IoU: 0.25583257830994766\n",
      "MoF\n",
      "changing_tire 0.4044650571638384\n",
      "coffee 0.5522071132880543\n",
      "jump_car 0.5393041337512535\n",
      "repot 0.519623641296429\n",
      "cpr 0.5072082759404366\n",
      "Final MoF: 0.5045616442880024\n",
      "F1-score\n",
      "changing_tire 0.3154587889137153\n",
      "coffee 0.5153851988202668\n",
      "jump_car 0.5003982406597491\n",
      "repot 0.4535949823423463\n",
      "cpr 0.4027056000343274\n",
      "Final F1-score: 0.437508562154081\n"
     ]
    }
   ],
   "source": [
    "seg = SegSlowFast(with_pe=False, features_seg_size=64, cluster=ClusterFactory.get(\"FINCH\")(distance='euclidean'))\n",
    "seg.segment()\n",
    "seg.eval_seg.report_results()"
   ]
  },
  {
   "cell_type": "code",
   "execution_count": 17,
   "id": "62f7f4b9-43e3-480f-9317-699ceabc43da",
   "metadata": {},
   "outputs": [
    {
     "name": "stdout",
     "output_type": "stream",
     "text": [
      "IoU\n",
      "changing_tire 0.10299665983271168\n",
      "coffee 0.1883455295637334\n",
      "jump_car 0.14645566960135742\n",
      "repot 0.22151038739535\n",
      "cpr 0.23905351711758513\n",
      "Final IoU: 0.17967235270214754\n",
      "MoF\n",
      "changing_tire 0.35083423622353455\n",
      "coffee 0.5306230923798089\n",
      "jump_car 0.5023200919018642\n",
      "repot 0.5285630713584444\n",
      "cpr 0.5114775991245001\n",
      "Final MoF: 0.48476361819763036\n",
      "F1-score\n",
      "changing_tire 0.251063780923762\n",
      "coffee 0.38928572847283327\n",
      "jump_car 0.4614938690725089\n",
      "repot 0.42087555562892187\n",
      "cpr 0.4633239866939544\n",
      "Final F1-score: 0.3972085841583961\n"
     ]
    }
   ],
   "source": [
    "seg = SegSlowFast(with_pe=False, features_seg_size=128, cluster=ClusterFactory.get(\"FINCH\")(distance='euclidean'))\n",
    "seg.segment()\n",
    "seg.eval_seg.report_results()"
   ]
  },
  {
   "cell_type": "markdown",
   "id": "9217bc17-bb05-4185-85f9-4ee32966e1f4",
   "metadata": {},
   "source": [
    "### KMeans + SS + PE"
   ]
  },
  {
   "cell_type": "code",
   "execution_count": 25,
   "id": "219d4ce7-5259-493b-b863-e255df6a227e",
   "metadata": {},
   "outputs": [
    {
     "name": "stdout",
     "output_type": "stream",
     "text": [
      "IoU\n",
      "changing_tire 0.26357710499844184\n",
      "coffee 0.35562147325975735\n",
      "jump_car 0.3466953772833107\n",
      "repot 0.33475678157373434\n",
      "cpr 0.3542196230420969\n",
      "Final IoU: 0.3309740720314682\n",
      "MoF\n",
      "changing_tire 0.3817083649120007\n",
      "coffee 0.47678624436980344\n",
      "jump_car 0.4908948315724803\n",
      "repot 0.4494572350497813\n",
      "cpr 0.44811282576514677\n",
      "Final MoF: 0.44939190033384246\n",
      "F1-score\n",
      "changing_tire 0.3019728624679467\n",
      "coffee 0.4086758170622321\n",
      "jump_car 0.45809987497702476\n",
      "repot 0.4075571851163389\n",
      "cpr 0.4090590665180872\n",
      "Final F1-score: 0.3970729612283259\n"
     ]
    }
   ],
   "source": [
    "seg = SegSlowFast(with_pe=True, cluster=ClusterFactory.get(\"KMeans\")(n=2))\n",
    "seg.segment()\n",
    "seg.eval_seg.report_results()"
   ]
  },
  {
   "cell_type": "markdown",
   "id": "c7625f15-0abb-411e-b0db-2c57d90d1653",
   "metadata": {},
   "source": [
    "### KMeans + SS"
   ]
  },
  {
   "cell_type": "code",
   "execution_count": 26,
   "id": "b1d26d30-bad0-4977-ac92-8878b168c8bf",
   "metadata": {},
   "outputs": [
    {
     "name": "stdout",
     "output_type": "stream",
     "text": [
      "IoU\n",
      "changing_tire 0.2549211894128777\n",
      "coffee 0.3439061957485229\n",
      "jump_car 0.33307048793584504\n",
      "repot 0.32335071674565774\n",
      "cpr 0.35060418274701405\n",
      "Final IoU: 0.3211705545179835\n",
      "MoF\n",
      "changing_tire 0.3813661055399936\n",
      "coffee 0.4844258978477935\n",
      "jump_car 0.4891622286192349\n",
      "repot 0.4567781139825974\n",
      "cpr 0.45870825739016036\n",
      "Final MoF: 0.45408812067595594\n",
      "F1-score\n",
      "changing_tire 0.29886162673736844\n",
      "coffee 0.41249921587217764\n",
      "jump_car 0.45557546398946047\n",
      "repot 0.4129989811819878\n",
      "cpr 0.41478206348191027\n",
      "Final F1-score: 0.3989434702525809\n"
     ]
    }
   ],
   "source": [
    "seg = SegSlowFast(with_pe=False, cluster=ClusterFactory.get(\"KMeans\")(n=2))\n",
    "seg.segment()\n",
    "seg.eval_seg.report_results()"
   ]
  },
  {
   "cell_type": "code",
   "execution_count": 120,
   "id": "a192a569-f7ca-413a-bb8c-e6e994a2b1f2",
   "metadata": {},
   "outputs": [
    {
     "name": "stdout",
     "output_type": "stream",
     "text": [
      "IoU\n",
      "changing_tire 0.16694321401694148\n",
      "coffee 0.21584797619909826\n",
      "jump_car 0.17134433580839462\n",
      "repot 0.167841989647582\n",
      "cpr 0.19883358065138215\n",
      "Final IoU: 0.1841622192646797\n",
      "MoF\n",
      "changing_tire 0.11350055985141831\n",
      "coffee 0.1382858207306055\n",
      "jump_car 0.1372174406025301\n",
      "repot 0.14752111141340254\n",
      "cpr 0.171264555470118\n",
      "Final MoF: 0.14155789761361487\n",
      "F1-score\n",
      "changing_tire 0.12384090734589563\n",
      "coffee 0.1557366037908081\n",
      "jump_car 0.1498576305151261\n",
      "repot 0.15842902444719775\n",
      "cpr 0.18230455399112247\n",
      "Final F1-score: 0.15403374401803\n"
     ]
    }
   ],
   "source": [
    "eval_seg.report_results()"
   ]
  }
 ],
 "metadata": {
  "kernelspec": {
   "display_name": "as_env",
   "language": "python",
   "name": "as_env"
  },
  "language_info": {
   "codemirror_mode": {
    "name": "ipython",
    "version": 3
   },
   "file_extension": ".py",
   "mimetype": "text/x-python",
   "name": "python",
   "nbconvert_exporter": "python",
   "pygments_lexer": "ipython3",
   "version": "3.7.10"
  }
 },
 "nbformat": 4,
 "nbformat_minor": 5
}
